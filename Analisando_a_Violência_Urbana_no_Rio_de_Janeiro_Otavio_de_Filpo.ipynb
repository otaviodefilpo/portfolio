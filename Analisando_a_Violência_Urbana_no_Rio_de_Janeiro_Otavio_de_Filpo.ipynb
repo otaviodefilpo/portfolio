{
  "nbformat": 4,
  "nbformat_minor": 0,
  "metadata": {
    "colab": {
      "name": "Analisando a Violência Urbana no Rio de Janeiro - Otávio de Filpo.ipynb",
      "provenance": [],
      "collapsed_sections": [],
      "include_colab_link": true
    },
    "kernelspec": {
      "name": "python3",
      "display_name": "Python 3"
    }
  },
  "cells": [
    {
      "cell_type": "markdown",
      "metadata": {
        "id": "view-in-github",
        "colab_type": "text"
      },
      "source": [
        "<a href=\"https://colab.research.google.com/github/otaviodefilpo/portfolio/blob/main/Analisando_a_Viol%C3%AAncia_Urbana_no_Rio_de_Janeiro_Otavio_de_Filpo.ipynb\" target=\"_parent\"><img src=\"https://colab.research.google.com/assets/colab-badge.svg\" alt=\"Open In Colab\"/></a>"
      ]
    },
    {
      "cell_type": "markdown",
      "metadata": {
        "id": "kLI0gJtzDGuQ"
      },
      "source": [
        "<img alt=\"Colaboratory logo\" width=\"15%\" src=\"https://raw.githubusercontent.com/carlosfab/escola-data-science/master/img/novo_logo_bg_claro.png\">\n",
        "\n",
        "****[sigmoidal.ai](https://sigmoidal.ai)***\n",
        "\n",
        "---\n",
        "# \"O Rio de Janeiro, Fevereiro e Março...\" - Análise da Violência no Rio de Janeiro\n",
        "\n",
        "<img src='https://uploads.metropoles.com/wp-content/uploads/2019/08/20101225/WhatsApp-Image-2019-08-20-at-10.10.20.jpeg'>\n",
        "\n",
        "\n",
        "O Rio de Janeiro possui várias facetas, como toda grande cidade, e a que chama atenção do resto do Brasil é a da criminalidade que assola o estado.\n",
        "A percepção da violência no RJ é pauta de noticiários diariamente, também já vem sendo retratada em vários filmes e séries em diversas épocas, o que nos faz entender que não é um problema recente, mas sim um que possui uma evolução histórica até os dias atuais.\n",
        "\n",
        "Este projeto de Análise Exploratória de Dados vai pegar os dados disponibilizados pelo instituto de segurança pública do Estado do Rio de janeiro, buscando  entender como essa evolução da violência se comportou nas últimas décadas, para extrair informações que possam ajudar as autoridades competentes a resolver alguns desses problemas.\n",
        "\n",
        "Como dito no Jornal El País em 2018: [\"O Rio não é um caso perdido e a violência tem sim solução\"](\"https://brasil.elpais.com/brasil/2018/08/17/opinion/1534460373_936822.html\")\n",
        "\n",
        "**Mãos à obra!**"
      ]
    },
    {
      "cell_type": "markdown",
      "metadata": {
        "id": "0zxQHhIUDF_2"
      },
      "source": [
        "## Obtenção dos Dados\n",
        "\n",
        "\n",
        "Os dados foram processados e disponibilizados pelo curso Data Science na Prática, da Escola Sigmoidal.\n",
        "Mas os dados brutos de segurança pública do Rio de janeiro podem ser obtivos através da plataforma de dados abertos do estado do Rio de Janeiro.\n",
        "\n",
        "[ISP - Instituto de Segurança Pública RJ]('http://www.ispdados.rj.gov.br/')"
      ]
    },
    {
      "cell_type": "markdown",
      "metadata": {
        "id": "Kkkc8asZ04m1"
      },
      "source": [
        "## Dicionário de Variáveis\r\n",
        "*O dicionário de variáveis foi organizado em ordem alfabética para facilitar a consulta das variáveis*\r\n",
        "\r\n",
        "`aaapai` - Auto de Apreensão de Adolescente por Prática de Ato Infracional\r\n",
        "\r\n",
        "`ameaca` - Ameaça \r\n",
        "\r\n",
        "`apf` - Auto de Prisão em Flagrante\r\n",
        "\r\n",
        "`apreensao_drogas` -   Apreensão de drogas\r\n",
        "\r\n",
        "`apreensao_drogas_sem_autor` - Número de registros que possuem algum título referente a apreensão de drogas sem autor\r\n",
        "\r\n",
        "`cmba` - Cumprimento de Mandado de Busca e Apreensão\r\n",
        "\r\n",
        "`cmp` - Cumprimento de Mandado de Prisão\r\n",
        "\r\n",
        "`encontro_cadaver` - Encontro de cadáver\r\n",
        "\r\n",
        "`encontro_ossada` - Encontro de ossada\r\n",
        "\r\n",
        "`estelionato` - Estelionato\r\n",
        "\r\n",
        "`estupro` - Estupro\r\n",
        "\r\n",
        "`extorsao` - Extorsão\r\n",
        "\r\n",
        "`fase` - 2 - Consolidado sem errata    3 - Consolidado com errata\r\n",
        "\r\n",
        "`furto_bicicleta` - Furto de Bicicleta\r\n",
        "\r\n",
        "`furto_celular` - Furto de Celular\r\n",
        "\r\n",
        "`furto_coletivo` - Furto em coletivo\r\n",
        "\r\n",
        "`furto_transeunte`  Furto em transeunte\r\n",
        "\r\n",
        "`furto_veiculos` - Furto de Veículo\r\n",
        "\r\n",
        "`hom_culposo` -  Homicídio culposo (trânsito)\r\n",
        "\r\n",
        "`hom_doloso` - Homicídio doloso\r\n",
        "\r\n",
        "`hom_por_interv_policial` - Morte por intervenção de agente do Estado\r\n",
        "\r\n",
        "`indicador_letalidade` - Indicador de letalidade*\r\n",
        "\r\n",
        "`indicador_roubo_rua` - Indicador de roubo de rua*\r\n",
        "\r\n",
        "`indicador_roubo_veic` - Indicador roubo de veículo*\r\n",
        "\r\n",
        "`latrocinio` - Latrocínio (roubo seguido de morte)\r\n",
        "\r\n",
        "`lesao_corp_culposa` - Lesão corporal culposa (trânsito)\r\n",
        "\r\n",
        "`lesao_corp_dolosa` - Lesão corporal dolosa\r\n",
        "\r\n",
        "`lesao_corp_morte` - Lesão corporal seguida de morte\r\n",
        "\r\n",
        "`mes` - Mês da comunicação da ocorrência\r\n",
        "\r\n",
        "`outros_furtos` - Outros furtos que não os listados acima\r\n",
        "\r\n",
        "`outros_roubos` - Outros roubos que não os listados acima\r\n",
        "\r\n",
        "`pessoas_desaparecidas` - Pessoas desaparecidas\r\n",
        "\r\n",
        "`pol_civis_mortos_serv` - Policiais Civis mortos em serviço\r\n",
        "\r\n",
        "`pol_militares_mortos_serv` - Policiais Militares mortos em serviço\r\n",
        "\r\n",
        "`posse_drogas` - Número de registros que possuem algum título referente a posse de drogas\r\n",
        "\r\n",
        "`recuperacao_veiculos` - Recuperação de veículo\r\n",
        "\r\n",
        "`registro_ocorrencias` - Registro de ocorrências\r\n",
        "\r\n",
        "`roubo_apos_saque` - Roubo após saque em instituição financeira\r\n",
        "\r\n",
        "`roubo_banco` - Roubo à banco\r\n",
        "\r\n",
        "`roubo_bicicleta` Roubo de bicicleta\r\n",
        "\r\n",
        "`roubo_carga` - Roubo de carga\r\n",
        "\r\n",
        "`roubo_celular` - Roubo de celular\r\n",
        "\r\n",
        "`roubo_comercio` - Roubo a estabelecimento comercial\r\n",
        "\r\n",
        "`roubo_conducao_saque` - Roubo com condução da vítima para saque em instituição financeira\r\n",
        "\r\n",
        "`roubo_cx_eletronico` - Roubo de caixa eletrônico\r\n",
        "\r\n",
        "\r\n",
        "`roubo_em_coletivo` - Roubo em coletivo\r\n",
        "\r\n",
        "`roubo_residencia` - Roubo à residência\r\n",
        "\r\n",
        "`roubo_transeunte` - Roubo à transeunte\r\n",
        "\r\n",
        "`roubo_veiculo` - Roubo à veículo\r\n",
        "\r\n",
        "`sequestro` - Extorsão mediante sequestro (sequestro clássico)\r\n",
        "\r\n",
        "`sequestro_relampago` - Extorsão com momentânea privação da liberdade (sequestro relâmpago)\r\n",
        "\r\n",
        "`tentat_hom` - Tentativa de homicídio\r\n",
        "\r\n",
        "`total_furtos` - Total de furtos\r\n",
        "\r\n",
        "`total_roubos` - Total de roubos\r\n",
        "\r\n",
        "`trafico_drogas` - Número de registros que possuem algum título referente a tráfico de drogas\r\n",
        "\r\n",
        "`vano` - Ano da comunicação da ocorrência\r\n",
        "\r\n",
        "--\r\n",
        "\r\n",
        "**Não constavam na documentação oficial disponibilizada no site oficial, então a descrição foi assumida com base no código da variável*"
      ]
    },
    {
      "cell_type": "markdown",
      "metadata": {
        "id": "7vh4at0l90nr"
      },
      "source": [
        "### Importando os dados e pacotes necessários\n"
      ]
    },
    {
      "cell_type": "code",
      "metadata": {
        "id": "stMSckytf1op"
      },
      "source": [
        "# Importando os pacotes necessários\r\n",
        "import pandas as pd\r\n",
        "import matplotlib.pyplot as plt\r\n",
        "import seaborn as sns"
      ],
      "execution_count": 215,
      "outputs": []
    },
    {
      "cell_type": "code",
      "metadata": {
        "id": "CYLNme_OCX_R",
        "colab": {
          "base_uri": "https://localhost:8080/",
          "height": 162
        },
        "outputId": "6d36e021-6cf2-47ba-8ce8-a918fb598eb8"
      },
      "source": [
        "#Definindo o caminho do arquivo\r\n",
        "file_path = \"https://raw.githubusercontent.com/carlosfab/dsnp2/master/datasets/violencia_rio.csv\"\r\n",
        "#Lendo o arquivo com Pandas\r\n",
        "df = pd.read_csv(file_path)\r\n",
        "df_cr = df.copy()\r\n",
        "#Dataframe a ser trabalhado\r\n",
        "df_cr.head(3)"
      ],
      "execution_count": 216,
      "outputs": [
        {
          "output_type": "execute_result",
          "data": {
            "text/html": [
              "<div>\n",
              "<style scoped>\n",
              "    .dataframe tbody tr th:only-of-type {\n",
              "        vertical-align: middle;\n",
              "    }\n",
              "\n",
              "    .dataframe tbody tr th {\n",
              "        vertical-align: top;\n",
              "    }\n",
              "\n",
              "    .dataframe thead th {\n",
              "        text-align: right;\n",
              "    }\n",
              "</style>\n",
              "<table border=\"1\" class=\"dataframe\">\n",
              "  <thead>\n",
              "    <tr style=\"text-align: right;\">\n",
              "      <th></th>\n",
              "      <th>vano</th>\n",
              "      <th>mes</th>\n",
              "      <th>hom_doloso</th>\n",
              "      <th>lesao_corp_morte</th>\n",
              "      <th>latrocinio</th>\n",
              "      <th>hom_por_interv_policial</th>\n",
              "      <th>tentat_hom</th>\n",
              "      <th>lesao_corp_dolosa</th>\n",
              "      <th>estupro</th>\n",
              "      <th>hom_culposo</th>\n",
              "      <th>lesao_corp_culposa</th>\n",
              "      <th>roubo_comercio</th>\n",
              "      <th>roubo_residencia</th>\n",
              "      <th>roubo_veiculo</th>\n",
              "      <th>roubo_carga</th>\n",
              "      <th>roubo_transeunte</th>\n",
              "      <th>roubo_em_coletivo</th>\n",
              "      <th>roubo_banco</th>\n",
              "      <th>roubo_cx_eletronico</th>\n",
              "      <th>roubo_celular</th>\n",
              "      <th>roubo_conducao_saque</th>\n",
              "      <th>roubo_apos_saque</th>\n",
              "      <th>roubo_bicicleta</th>\n",
              "      <th>outros_roubos</th>\n",
              "      <th>total_roubos</th>\n",
              "      <th>furto_veiculos</th>\n",
              "      <th>furto_transeunte</th>\n",
              "      <th>furto_coletivo</th>\n",
              "      <th>furto_celular</th>\n",
              "      <th>furto_bicicleta</th>\n",
              "      <th>outros_furtos</th>\n",
              "      <th>total_furtos</th>\n",
              "      <th>sequestro</th>\n",
              "      <th>extorsao</th>\n",
              "      <th>sequestro_relampago</th>\n",
              "      <th>estelionato</th>\n",
              "      <th>apreensao_drogas</th>\n",
              "      <th>posse_drogas</th>\n",
              "      <th>trafico_drogas</th>\n",
              "      <th>apreensao_drogas_sem_autor</th>\n",
              "      <th>recuperacao_veiculos</th>\n",
              "      <th>apf</th>\n",
              "      <th>aaapai</th>\n",
              "      <th>cmp</th>\n",
              "      <th>cmba</th>\n",
              "      <th>ameaca</th>\n",
              "      <th>pessoas_desaparecidas</th>\n",
              "      <th>encontro_cadaver</th>\n",
              "      <th>encontro_ossada</th>\n",
              "      <th>pol_militares_mortos_serv</th>\n",
              "      <th>pol_civis_mortos_serv</th>\n",
              "      <th>indicador_letalidade</th>\n",
              "      <th>indicador_roubo_rua</th>\n",
              "      <th>indicador_roubo_veic</th>\n",
              "      <th>registro_ocorrencias</th>\n",
              "      <th>fase</th>\n",
              "    </tr>\n",
              "  </thead>\n",
              "  <tbody>\n",
              "    <tr>\n",
              "      <th>0</th>\n",
              "      <td>1991</td>\n",
              "      <td>1</td>\n",
              "      <td>657</td>\n",
              "      <td>NaN</td>\n",
              "      <td>15</td>\n",
              "      <td>NaN</td>\n",
              "      <td>162</td>\n",
              "      <td>3051</td>\n",
              "      <td>NaN</td>\n",
              "      <td>NaN</td>\n",
              "      <td>NaN</td>\n",
              "      <td>350</td>\n",
              "      <td>188</td>\n",
              "      <td>1174</td>\n",
              "      <td>63</td>\n",
              "      <td>967</td>\n",
              "      <td>381</td>\n",
              "      <td>37</td>\n",
              "      <td>NaN</td>\n",
              "      <td>NaN</td>\n",
              "      <td>NaN</td>\n",
              "      <td>NaN</td>\n",
              "      <td>NaN</td>\n",
              "      <td>158</td>\n",
              "      <td>3318</td>\n",
              "      <td>2009</td>\n",
              "      <td>1147</td>\n",
              "      <td>NaN</td>\n",
              "      <td>NaN</td>\n",
              "      <td>NaN</td>\n",
              "      <td>3561</td>\n",
              "      <td>6717</td>\n",
              "      <td>NaN</td>\n",
              "      <td>NaN</td>\n",
              "      <td>NaN</td>\n",
              "      <td>NaN</td>\n",
              "      <td>133</td>\n",
              "      <td>NaN</td>\n",
              "      <td>NaN</td>\n",
              "      <td>NaN</td>\n",
              "      <td>872</td>\n",
              "      <td>NaN</td>\n",
              "      <td>NaN</td>\n",
              "      <td>NaN</td>\n",
              "      <td>NaN</td>\n",
              "      <td>NaN</td>\n",
              "      <td>NaN</td>\n",
              "      <td>217</td>\n",
              "      <td>NaN</td>\n",
              "      <td>NaN</td>\n",
              "      <td>NaN</td>\n",
              "      <td>672</td>\n",
              "      <td>1348</td>\n",
              "      <td>1174</td>\n",
              "      <td>NaN</td>\n",
              "      <td>3</td>\n",
              "    </tr>\n",
              "    <tr>\n",
              "      <th>1</th>\n",
              "      <td>1991</td>\n",
              "      <td>2</td>\n",
              "      <td>732</td>\n",
              "      <td>NaN</td>\n",
              "      <td>17</td>\n",
              "      <td>NaN</td>\n",
              "      <td>175</td>\n",
              "      <td>3421</td>\n",
              "      <td>NaN</td>\n",
              "      <td>NaN</td>\n",
              "      <td>NaN</td>\n",
              "      <td>357</td>\n",
              "      <td>171</td>\n",
              "      <td>1097</td>\n",
              "      <td>64</td>\n",
              "      <td>963</td>\n",
              "      <td>432</td>\n",
              "      <td>35</td>\n",
              "      <td>NaN</td>\n",
              "      <td>NaN</td>\n",
              "      <td>NaN</td>\n",
              "      <td>NaN</td>\n",
              "      <td>NaN</td>\n",
              "      <td>142</td>\n",
              "      <td>3261</td>\n",
              "      <td>1850</td>\n",
              "      <td>1066</td>\n",
              "      <td>NaN</td>\n",
              "      <td>NaN</td>\n",
              "      <td>NaN</td>\n",
              "      <td>3309</td>\n",
              "      <td>6225</td>\n",
              "      <td>NaN</td>\n",
              "      <td>NaN</td>\n",
              "      <td>NaN</td>\n",
              "      <td>NaN</td>\n",
              "      <td>127</td>\n",
              "      <td>NaN</td>\n",
              "      <td>NaN</td>\n",
              "      <td>NaN</td>\n",
              "      <td>751</td>\n",
              "      <td>NaN</td>\n",
              "      <td>NaN</td>\n",
              "      <td>NaN</td>\n",
              "      <td>NaN</td>\n",
              "      <td>NaN</td>\n",
              "      <td>NaN</td>\n",
              "      <td>209</td>\n",
              "      <td>NaN</td>\n",
              "      <td>NaN</td>\n",
              "      <td>NaN</td>\n",
              "      <td>749</td>\n",
              "      <td>1395</td>\n",
              "      <td>1097</td>\n",
              "      <td>NaN</td>\n",
              "      <td>3</td>\n",
              "    </tr>\n",
              "    <tr>\n",
              "      <th>2</th>\n",
              "      <td>1991</td>\n",
              "      <td>3</td>\n",
              "      <td>713</td>\n",
              "      <td>NaN</td>\n",
              "      <td>25</td>\n",
              "      <td>NaN</td>\n",
              "      <td>216</td>\n",
              "      <td>3613</td>\n",
              "      <td>NaN</td>\n",
              "      <td>NaN</td>\n",
              "      <td>NaN</td>\n",
              "      <td>443</td>\n",
              "      <td>191</td>\n",
              "      <td>1265</td>\n",
              "      <td>71</td>\n",
              "      <td>963</td>\n",
              "      <td>422</td>\n",
              "      <td>43</td>\n",
              "      <td>NaN</td>\n",
              "      <td>NaN</td>\n",
              "      <td>NaN</td>\n",
              "      <td>NaN</td>\n",
              "      <td>NaN</td>\n",
              "      <td>131</td>\n",
              "      <td>3529</td>\n",
              "      <td>2084</td>\n",
              "      <td>1062</td>\n",
              "      <td>NaN</td>\n",
              "      <td>NaN</td>\n",
              "      <td>NaN</td>\n",
              "      <td>3573</td>\n",
              "      <td>6719</td>\n",
              "      <td>NaN</td>\n",
              "      <td>NaN</td>\n",
              "      <td>NaN</td>\n",
              "      <td>NaN</td>\n",
              "      <td>80</td>\n",
              "      <td>NaN</td>\n",
              "      <td>NaN</td>\n",
              "      <td>NaN</td>\n",
              "      <td>789</td>\n",
              "      <td>NaN</td>\n",
              "      <td>NaN</td>\n",
              "      <td>NaN</td>\n",
              "      <td>NaN</td>\n",
              "      <td>NaN</td>\n",
              "      <td>NaN</td>\n",
              "      <td>188</td>\n",
              "      <td>NaN</td>\n",
              "      <td>NaN</td>\n",
              "      <td>NaN</td>\n",
              "      <td>738</td>\n",
              "      <td>1385</td>\n",
              "      <td>1265</td>\n",
              "      <td>NaN</td>\n",
              "      <td>3</td>\n",
              "    </tr>\n",
              "  </tbody>\n",
              "</table>\n",
              "</div>"
            ],
            "text/plain": [
              "   vano  mes  hom_doloso  ...  indicador_roubo_veic  registro_ocorrencias  fase\n",
              "0  1991    1         657  ...                  1174                   NaN     3\n",
              "1  1991    2         732  ...                  1097                   NaN     3\n",
              "2  1991    3         713  ...                  1265                   NaN     3\n",
              "\n",
              "[3 rows x 56 columns]"
            ]
          },
          "metadata": {
            "tags": []
          },
          "execution_count": 216
        }
      ]
    },
    {
      "cell_type": "markdown",
      "metadata": {
        "id": "ZJqaL4XwYqjw"
      },
      "source": [
        "Agora que já importamos os dados e fizemos um backup do Dataset original, vamos começar a entender o nosso dataset.\r\n",
        "Primeiramente observando as linhas e colunas"
      ]
    },
    {
      "cell_type": "code",
      "metadata": {
        "colab": {
          "base_uri": "https://localhost:8080/"
        },
        "id": "lBB5MNa9gpwu",
        "outputId": "4a00237b-fe10-46d4-f641-bdef951ad8c9"
      },
      "source": [
        "# Primeiramente iremos observar quantas entradas temos no Dataset\r\n",
        "print('O Dataset tem {} entradas e {} variáveis'.format(df_cr.shape[0],df_cr.shape[1]))"
      ],
      "execution_count": 217,
      "outputs": [
        {
          "output_type": "stream",
          "text": [
            "O Dataset tem 344 entradas e 56 variáveis\n"
          ],
          "name": "stdout"
        }
      ]
    },
    {
      "cell_type": "markdown",
      "metadata": {
        "id": "uIm18bWCZEld"
      },
      "source": [
        "Agora que já sabemos os nossos valores de entradas e variáveis, vamos entender mais sobre cada uma dessas variáveis"
      ]
    },
    {
      "cell_type": "code",
      "metadata": {
        "colab": {
          "base_uri": "https://localhost:8080/"
        },
        "id": "x_3L8rZehDx8",
        "outputId": "7d4eaf2b-89b9-438c-98fe-c1801b13b6aa"
      },
      "source": [
        "#Agora iremos ver quais os tipos de dados e valores ausentes no Dataset usando o comando `info()`\r\n",
        "df_cr.info()"
      ],
      "execution_count": 218,
      "outputs": [
        {
          "output_type": "stream",
          "text": [
            "<class 'pandas.core.frame.DataFrame'>\n",
            "RangeIndex: 344 entries, 0 to 343\n",
            "Data columns (total 56 columns):\n",
            " #   Column                      Non-Null Count  Dtype  \n",
            "---  ------                      --------------  -----  \n",
            " 0   vano                        344 non-null    int64  \n",
            " 1   mes                         344 non-null    int64  \n",
            " 2   hom_doloso                  344 non-null    int64  \n",
            " 3   lesao_corp_morte            248 non-null    float64\n",
            " 4   latrocinio                  344 non-null    int64  \n",
            " 5   hom_por_interv_policial     260 non-null    float64\n",
            " 6   tentat_hom                  344 non-null    int64  \n",
            " 7   lesao_corp_dolosa           344 non-null    int64  \n",
            " 8   estupro                     200 non-null    float64\n",
            " 9   hom_culposo                 260 non-null    float64\n",
            " 10  lesao_corp_culposa          248 non-null    float64\n",
            " 11  roubo_comercio              344 non-null    int64  \n",
            " 12  roubo_residencia            344 non-null    int64  \n",
            " 13  roubo_veiculo               344 non-null    int64  \n",
            " 14  roubo_carga                 344 non-null    int64  \n",
            " 15  roubo_transeunte            344 non-null    int64  \n",
            " 16  roubo_em_coletivo           344 non-null    int64  \n",
            " 17  roubo_banco                 344 non-null    int64  \n",
            " 18  roubo_cx_eletronico         200 non-null    float64\n",
            " 19  roubo_celular               236 non-null    float64\n",
            " 20  roubo_conducao_saque        200 non-null    float64\n",
            " 21  roubo_apos_saque            200 non-null    float64\n",
            " 22  roubo_bicicleta             68 non-null     float64\n",
            " 23  outros_roubos               344 non-null    int64  \n",
            " 24  total_roubos                344 non-null    int64  \n",
            " 25  furto_veiculos              344 non-null    int64  \n",
            " 26  furto_transeunte            344 non-null    int64  \n",
            " 27  furto_coletivo              200 non-null    float64\n",
            " 28  furto_celular               200 non-null    float64\n",
            " 29  furto_bicicleta             68 non-null     float64\n",
            " 30  outros_furtos               344 non-null    int64  \n",
            " 31  total_furtos                344 non-null    int64  \n",
            " 32  sequestro                   248 non-null    float64\n",
            " 33  extorsao                    200 non-null    float64\n",
            " 34  sequestro_relampago         200 non-null    float64\n",
            " 35  estelionato                 200 non-null    float64\n",
            " 36  apreensao_drogas            344 non-null    int64  \n",
            " 37  posse_drogas                164 non-null    float64\n",
            " 38  trafico_drogas              164 non-null    float64\n",
            " 39  apreensao_drogas_sem_autor  164 non-null    float64\n",
            " 40  recuperacao_veiculos        344 non-null    int64  \n",
            " 41  apf                         164 non-null    float64\n",
            " 42  aaapai                      164 non-null    float64\n",
            " 43  cmp                         164 non-null    float64\n",
            " 44  cmba                        164 non-null    float64\n",
            " 45  ameaca                      248 non-null    float64\n",
            " 46  pessoas_desaparecidas       212 non-null    float64\n",
            " 47  encontro_cadaver            344 non-null    int64  \n",
            " 48  encontro_ossada             212 non-null    float64\n",
            " 49  pol_militares_mortos_serv   200 non-null    float64\n",
            " 50  pol_civis_mortos_serv       200 non-null    float64\n",
            " 51  indicador_letalidade        344 non-null    int64  \n",
            " 52  indicador_roubo_rua         344 non-null    int64  \n",
            " 53  indicador_roubo_veic        344 non-null    int64  \n",
            " 54  registro_ocorrencias        248 non-null    float64\n",
            " 55  fase                        344 non-null    int64  \n",
            "dtypes: float64(30), int64(26)\n",
            "memory usage: 150.6 KB\n"
          ],
          "name": "stdout"
        }
      ]
    },
    {
      "cell_type": "markdown",
      "metadata": {
        "id": "NIqXbDEkn7oA"
      },
      "source": [
        "Vale ressaltar aqui que todos as variáveis são valores númericos, mesmo que tenham tipo dividido entre integers e floats."
      ]
    },
    {
      "cell_type": "markdown",
      "metadata": {
        "id": "rsQFCbSSZoOY"
      },
      "source": [
        "Um passo importante para auxiliar as nossas análises é entender qual o intervalo de tempo que nossos dados estão."
      ]
    },
    {
      "cell_type": "code",
      "metadata": {
        "colab": {
          "base_uri": "https://localhost:8080/"
        },
        "id": "Qrt3fFEVNgH8",
        "outputId": "c383afc5-3f19-4283-a9bc-dfbd2c181e84"
      },
      "source": [
        "#Como temos a variável ano, vamos ver quais anos estão presentes no nosso dataset.\r\n",
        "anos_aux = df_cr.vano.unique()\r\n",
        "print(\"Todos os anos presentes:\",anos_aux)\r\n",
        "print(\"Nossas variáveis vão de {} à {}\".format(anos_aux[0],anos_aux[-1]))\r\n",
        "print(\"A série histórica é de {} anos\".format(len(anos_aux)))"
      ],
      "execution_count": 219,
      "outputs": [
        {
          "output_type": "stream",
          "text": [
            "Todos os anos presentes: [1991 1992 1993 1994 1995 1996 1997 1998 1999 2000 2001 2002 2003 2004\n",
            " 2005 2006 2007 2008 2009 2010 2011 2012 2013 2014 2015 2016 2017 2018\n",
            " 2019]\n",
            "Nossas variáveis vão de 1991 à 2019\n",
            "A série histórica é de 29 anos\n"
          ],
          "name": "stdout"
        }
      ]
    },
    {
      "cell_type": "markdown",
      "metadata": {
        "id": "XRyrZTY_aUyC"
      },
      "source": [
        "## Limpeza dos dados\r\n",
        "Uma vez que já entendemos algumas coisas gerais sobre nosso dataset, vamos visualizar quantos valores ausentes nossas variáveis possuem."
      ]
    },
    {
      "cell_type": "code",
      "metadata": {
        "colab": {
          "base_uri": "https://localhost:8080/"
        },
        "id": "NPYb3kv8rPB4",
        "outputId": "278f3593-b065-4891-9b3c-7b8f02028317"
      },
      "source": [
        "# Porcentagem de valores ausentes das variáveis\r\n",
        "(df_cr.isnull().sum()/df_cr.shape[0]).sort_values(ascending=False)"
      ],
      "execution_count": 220,
      "outputs": [
        {
          "output_type": "execute_result",
          "data": {
            "text/plain": [
              "roubo_bicicleta               0.802326\n",
              "furto_bicicleta               0.802326\n",
              "apreensao_drogas_sem_autor    0.523256\n",
              "posse_drogas                  0.523256\n",
              "apf                           0.523256\n",
              "aaapai                        0.523256\n",
              "cmp                           0.523256\n",
              "trafico_drogas                0.523256\n",
              "cmba                          0.523256\n",
              "sequestro_relampago           0.418605\n",
              "furto_coletivo                0.418605\n",
              "extorsao                      0.418605\n",
              "furto_celular                 0.418605\n",
              "roubo_apos_saque              0.418605\n",
              "roubo_conducao_saque          0.418605\n",
              "roubo_cx_eletronico           0.418605\n",
              "estupro                       0.418605\n",
              "estelionato                   0.418605\n",
              "pol_civis_mortos_serv         0.418605\n",
              "pol_militares_mortos_serv     0.418605\n",
              "pessoas_desaparecidas         0.383721\n",
              "encontro_ossada               0.383721\n",
              "roubo_celular                 0.313953\n",
              "lesao_corp_culposa            0.279070\n",
              "ameaca                        0.279070\n",
              "sequestro                     0.279070\n",
              "lesao_corp_morte              0.279070\n",
              "registro_ocorrencias          0.279070\n",
              "hom_por_interv_policial       0.244186\n",
              "hom_culposo                   0.244186\n",
              "tentat_hom                    0.000000\n",
              "roubo_comercio                0.000000\n",
              "roubo_residencia              0.000000\n",
              "latrocinio                    0.000000\n",
              "lesao_corp_dolosa             0.000000\n",
              "hom_doloso                    0.000000\n",
              "roubo_transeunte              0.000000\n",
              "mes                           0.000000\n",
              "roubo_veiculo                 0.000000\n",
              "roubo_carga                   0.000000\n",
              "fase                          0.000000\n",
              "roubo_em_coletivo             0.000000\n",
              "roubo_banco                   0.000000\n",
              "outros_roubos                 0.000000\n",
              "total_roubos                  0.000000\n",
              "furto_veiculos                0.000000\n",
              "furto_transeunte              0.000000\n",
              "outros_furtos                 0.000000\n",
              "total_furtos                  0.000000\n",
              "apreensao_drogas              0.000000\n",
              "recuperacao_veiculos          0.000000\n",
              "encontro_cadaver              0.000000\n",
              "indicador_letalidade          0.000000\n",
              "indicador_roubo_rua           0.000000\n",
              "indicador_roubo_veic          0.000000\n",
              "vano                          0.000000\n",
              "dtype: float64"
            ]
          },
          "metadata": {
            "tags": []
          },
          "execution_count": 220
        }
      ]
    },
    {
      "cell_type": "markdown",
      "metadata": {
        "id": "tzsO7TNpsKNM"
      },
      "source": [
        "Podemos perceber que há uma variação muito grande entre as quantidades de NaNs nas variáveis, isso pode se dever à falta de cultura de dados que era ainda maior nos anos de início da série histórica. Vamos tentar diminuir nossa série para 15 anos, que ainda é um intervalo bem considerável e a partir disso visualizar como a porcentagem de NaNs ocorre."
      ]
    },
    {
      "cell_type": "code",
      "metadata": {
        "colab": {
          "base_uri": "https://localhost:8080/",
          "height": 162
        },
        "id": "AnfgKSzEwsmL",
        "outputId": "91db7a65-60ca-492a-abf4-ef038198f859"
      },
      "source": [
        "#Estabelecendo uma variável auxiliar\r\n",
        "drop_menorq2k5 = df_cr[df_cr.vano < 2005]\r\n",
        "\r\n",
        "#Dropando os dados anteriores à 2005\r\n",
        "df_cr = df_cr.drop(drop_menorq2k5.index, axis=0)\r\n",
        "df_cr.head(3)"
      ],
      "execution_count": 221,
      "outputs": [
        {
          "output_type": "execute_result",
          "data": {
            "text/html": [
              "<div>\n",
              "<style scoped>\n",
              "    .dataframe tbody tr th:only-of-type {\n",
              "        vertical-align: middle;\n",
              "    }\n",
              "\n",
              "    .dataframe tbody tr th {\n",
              "        vertical-align: top;\n",
              "    }\n",
              "\n",
              "    .dataframe thead th {\n",
              "        text-align: right;\n",
              "    }\n",
              "</style>\n",
              "<table border=\"1\" class=\"dataframe\">\n",
              "  <thead>\n",
              "    <tr style=\"text-align: right;\">\n",
              "      <th></th>\n",
              "      <th>vano</th>\n",
              "      <th>mes</th>\n",
              "      <th>hom_doloso</th>\n",
              "      <th>lesao_corp_morte</th>\n",
              "      <th>latrocinio</th>\n",
              "      <th>hom_por_interv_policial</th>\n",
              "      <th>tentat_hom</th>\n",
              "      <th>lesao_corp_dolosa</th>\n",
              "      <th>estupro</th>\n",
              "      <th>hom_culposo</th>\n",
              "      <th>lesao_corp_culposa</th>\n",
              "      <th>roubo_comercio</th>\n",
              "      <th>roubo_residencia</th>\n",
              "      <th>roubo_veiculo</th>\n",
              "      <th>roubo_carga</th>\n",
              "      <th>roubo_transeunte</th>\n",
              "      <th>roubo_em_coletivo</th>\n",
              "      <th>roubo_banco</th>\n",
              "      <th>roubo_cx_eletronico</th>\n",
              "      <th>roubo_celular</th>\n",
              "      <th>roubo_conducao_saque</th>\n",
              "      <th>roubo_apos_saque</th>\n",
              "      <th>roubo_bicicleta</th>\n",
              "      <th>outros_roubos</th>\n",
              "      <th>total_roubos</th>\n",
              "      <th>furto_veiculos</th>\n",
              "      <th>furto_transeunte</th>\n",
              "      <th>furto_coletivo</th>\n",
              "      <th>furto_celular</th>\n",
              "      <th>furto_bicicleta</th>\n",
              "      <th>outros_furtos</th>\n",
              "      <th>total_furtos</th>\n",
              "      <th>sequestro</th>\n",
              "      <th>extorsao</th>\n",
              "      <th>sequestro_relampago</th>\n",
              "      <th>estelionato</th>\n",
              "      <th>apreensao_drogas</th>\n",
              "      <th>posse_drogas</th>\n",
              "      <th>trafico_drogas</th>\n",
              "      <th>apreensao_drogas_sem_autor</th>\n",
              "      <th>recuperacao_veiculos</th>\n",
              "      <th>apf</th>\n",
              "      <th>aaapai</th>\n",
              "      <th>cmp</th>\n",
              "      <th>cmba</th>\n",
              "      <th>ameaca</th>\n",
              "      <th>pessoas_desaparecidas</th>\n",
              "      <th>encontro_cadaver</th>\n",
              "      <th>encontro_ossada</th>\n",
              "      <th>pol_militares_mortos_serv</th>\n",
              "      <th>pol_civis_mortos_serv</th>\n",
              "      <th>indicador_letalidade</th>\n",
              "      <th>indicador_roubo_rua</th>\n",
              "      <th>indicador_roubo_veic</th>\n",
              "      <th>registro_ocorrencias</th>\n",
              "      <th>fase</th>\n",
              "    </tr>\n",
              "  </thead>\n",
              "  <tbody>\n",
              "    <tr>\n",
              "      <th>168</th>\n",
              "      <td>2005</td>\n",
              "      <td>1</td>\n",
              "      <td>607</td>\n",
              "      <td>6.0</td>\n",
              "      <td>19</td>\n",
              "      <td>72.0</td>\n",
              "      <td>385</td>\n",
              "      <td>7052</td>\n",
              "      <td>334.0</td>\n",
              "      <td>220.0</td>\n",
              "      <td>3342.0</td>\n",
              "      <td>428</td>\n",
              "      <td>155</td>\n",
              "      <td>2747</td>\n",
              "      <td>402</td>\n",
              "      <td>2424</td>\n",
              "      <td>650</td>\n",
              "      <td>1</td>\n",
              "      <td>4.0</td>\n",
              "      <td>441.0</td>\n",
              "      <td>25.0</td>\n",
              "      <td>166.0</td>\n",
              "      <td>NaN</td>\n",
              "      <td>1304</td>\n",
              "      <td>8747</td>\n",
              "      <td>1749</td>\n",
              "      <td>991</td>\n",
              "      <td>282.0</td>\n",
              "      <td>1074.0</td>\n",
              "      <td>NaN</td>\n",
              "      <td>6784</td>\n",
              "      <td>10880</td>\n",
              "      <td>2.0</td>\n",
              "      <td>173.0</td>\n",
              "      <td>5.0</td>\n",
              "      <td>1196.0</td>\n",
              "      <td>979</td>\n",
              "      <td>NaN</td>\n",
              "      <td>NaN</td>\n",
              "      <td>NaN</td>\n",
              "      <td>2209</td>\n",
              "      <td>NaN</td>\n",
              "      <td>NaN</td>\n",
              "      <td>NaN</td>\n",
              "      <td>NaN</td>\n",
              "      <td>5920.0</td>\n",
              "      <td>413.0</td>\n",
              "      <td>87</td>\n",
              "      <td>2.0</td>\n",
              "      <td>1.0</td>\n",
              "      <td>0.0</td>\n",
              "      <td>704</td>\n",
              "      <td>3515</td>\n",
              "      <td>2747</td>\n",
              "      <td>47294.0</td>\n",
              "      <td>3</td>\n",
              "    </tr>\n",
              "    <tr>\n",
              "      <th>169</th>\n",
              "      <td>2005</td>\n",
              "      <td>2</td>\n",
              "      <td>619</td>\n",
              "      <td>4.0</td>\n",
              "      <td>12</td>\n",
              "      <td>59.0</td>\n",
              "      <td>306</td>\n",
              "      <td>5856</td>\n",
              "      <td>260.0</td>\n",
              "      <td>184.0</td>\n",
              "      <td>2643.0</td>\n",
              "      <td>434</td>\n",
              "      <td>147</td>\n",
              "      <td>2610</td>\n",
              "      <td>421</td>\n",
              "      <td>2537</td>\n",
              "      <td>614</td>\n",
              "      <td>6</td>\n",
              "      <td>4.0</td>\n",
              "      <td>410.0</td>\n",
              "      <td>19.0</td>\n",
              "      <td>156.0</td>\n",
              "      <td>NaN</td>\n",
              "      <td>1345</td>\n",
              "      <td>8703</td>\n",
              "      <td>1521</td>\n",
              "      <td>1107</td>\n",
              "      <td>275.0</td>\n",
              "      <td>989.0</td>\n",
              "      <td>NaN</td>\n",
              "      <td>6341</td>\n",
              "      <td>10233</td>\n",
              "      <td>1.0</td>\n",
              "      <td>191.0</td>\n",
              "      <td>9.0</td>\n",
              "      <td>1016.0</td>\n",
              "      <td>840</td>\n",
              "      <td>NaN</td>\n",
              "      <td>NaN</td>\n",
              "      <td>NaN</td>\n",
              "      <td>2129</td>\n",
              "      <td>NaN</td>\n",
              "      <td>NaN</td>\n",
              "      <td>NaN</td>\n",
              "      <td>NaN</td>\n",
              "      <td>4768.0</td>\n",
              "      <td>317.0</td>\n",
              "      <td>84</td>\n",
              "      <td>3.0</td>\n",
              "      <td>3.0</td>\n",
              "      <td>1.0</td>\n",
              "      <td>694</td>\n",
              "      <td>3561</td>\n",
              "      <td>2610</td>\n",
              "      <td>44168.0</td>\n",
              "      <td>3</td>\n",
              "    </tr>\n",
              "    <tr>\n",
              "      <th>170</th>\n",
              "      <td>2005</td>\n",
              "      <td>3</td>\n",
              "      <td>682</td>\n",
              "      <td>2.0</td>\n",
              "      <td>26</td>\n",
              "      <td>94.0</td>\n",
              "      <td>345</td>\n",
              "      <td>6749</td>\n",
              "      <td>317.0</td>\n",
              "      <td>249.0</td>\n",
              "      <td>3034.0</td>\n",
              "      <td>464</td>\n",
              "      <td>167</td>\n",
              "      <td>3056</td>\n",
              "      <td>442</td>\n",
              "      <td>2876</td>\n",
              "      <td>811</td>\n",
              "      <td>1</td>\n",
              "      <td>11.0</td>\n",
              "      <td>553.0</td>\n",
              "      <td>19.0</td>\n",
              "      <td>174.0</td>\n",
              "      <td>NaN</td>\n",
              "      <td>1621</td>\n",
              "      <td>10195</td>\n",
              "      <td>1811</td>\n",
              "      <td>943</td>\n",
              "      <td>340.0</td>\n",
              "      <td>1291.0</td>\n",
              "      <td>NaN</td>\n",
              "      <td>6613</td>\n",
              "      <td>10998</td>\n",
              "      <td>0.0</td>\n",
              "      <td>235.0</td>\n",
              "      <td>5.0</td>\n",
              "      <td>1277.0</td>\n",
              "      <td>1011</td>\n",
              "      <td>NaN</td>\n",
              "      <td>NaN</td>\n",
              "      <td>NaN</td>\n",
              "      <td>2459</td>\n",
              "      <td>NaN</td>\n",
              "      <td>NaN</td>\n",
              "      <td>NaN</td>\n",
              "      <td>NaN</td>\n",
              "      <td>5885.0</td>\n",
              "      <td>423.0</td>\n",
              "      <td>86</td>\n",
              "      <td>7.0</td>\n",
              "      <td>4.0</td>\n",
              "      <td>1.0</td>\n",
              "      <td>804</td>\n",
              "      <td>4240</td>\n",
              "      <td>3056</td>\n",
              "      <td>50182.0</td>\n",
              "      <td>3</td>\n",
              "    </tr>\n",
              "  </tbody>\n",
              "</table>\n",
              "</div>"
            ],
            "text/plain": [
              "     vano  mes  hom_doloso  ...  indicador_roubo_veic  registro_ocorrencias  fase\n",
              "168  2005    1         607  ...                  2747               47294.0     3\n",
              "169  2005    2         619  ...                  2610               44168.0     3\n",
              "170  2005    3         682  ...                  3056               50182.0     3\n",
              "\n",
              "[3 rows x 56 columns]"
            ]
          },
          "metadata": {
            "tags": []
          },
          "execution_count": 221
        }
      ]
    },
    {
      "cell_type": "code",
      "metadata": {
        "colab": {
          "base_uri": "https://localhost:8080/"
        },
        "id": "pjKxhJwox4Qn",
        "outputId": "150dafe8-297f-4668-fe79-f046451a3b96"
      },
      "source": [
        "#Observando o número de entradas e variáveis\r\n",
        "print('Após a limpeza o Dataframe possui {} entradas e {} variáveis'.format(df_cr.shape[0],df_cr.shape[1]))\r\n",
        "\r\n",
        "#Estabelecendo uma variável auxiliar\r\n",
        "anos_aux2 = df_cr.vano.unique()\r\n",
        "\r\n",
        "#Observando qual a nossa série histórica\r\n",
        "print(\"Nossas variáveis vão de {} à {}\".format(anos_aux2[0],anos_aux2[-1]))\r\n",
        "print(\"A série histórica é de {} anos\".format(len(anos_aux2)))"
      ],
      "execution_count": 222,
      "outputs": [
        {
          "output_type": "stream",
          "text": [
            "Após a limpeza o Dataframe possui 176 entradas e 56 variáveis\n",
            "Nossas variáveis vão de 2005 à 2019\n",
            "A série histórica é de 15 anos\n"
          ],
          "name": "stdout"
        }
      ]
    },
    {
      "cell_type": "markdown",
      "metadata": {
        "id": "pplmciAjxut1"
      },
      "source": [
        "Agora que reduzimos nosso Dataframe para um intervalo de 15 anos, vamos verificar a nova porcentangem de valores NaNs no Dataframe"
      ]
    },
    {
      "cell_type": "code",
      "metadata": {
        "colab": {
          "base_uri": "https://localhost:8080/"
        },
        "id": "NXhBCMc40Ax5",
        "outputId": "e6071b89-1e1d-40af-dee7-5ed5c1627f8e"
      },
      "source": [
        "# Porcentagem de valores ausentes das variáveis\r\n",
        "(df_cr.isnull().sum()/df_cr.shape[0]).sort_values(ascending=False)"
      ],
      "execution_count": 223,
      "outputs": [
        {
          "output_type": "execute_result",
          "data": {
            "text/plain": [
              "roubo_bicicleta               0.613636\n",
              "furto_bicicleta               0.613636\n",
              "cmba                          0.068182\n",
              "posse_drogas                  0.068182\n",
              "trafico_drogas                0.068182\n",
              "apf                           0.068182\n",
              "aaapai                        0.068182\n",
              "cmp                           0.068182\n",
              "apreensao_drogas_sem_autor    0.068182\n",
              "estupro                       0.000000\n",
              "roubo_veiculo                 0.000000\n",
              "roubo_apos_saque              0.000000\n",
              "roubo_conducao_saque          0.000000\n",
              "roubo_celular                 0.000000\n",
              "roubo_cx_eletronico           0.000000\n",
              "mes                           0.000000\n",
              "roubo_banco                   0.000000\n",
              "roubo_em_coletivo             0.000000\n",
              "roubo_transeunte              0.000000\n",
              "roubo_carga                   0.000000\n",
              "roubo_residencia              0.000000\n",
              "hom_culposo                   0.000000\n",
              "roubo_comercio                0.000000\n",
              "hom_doloso                    0.000000\n",
              "lesao_corp_morte              0.000000\n",
              "outros_roubos                 0.000000\n",
              "lesao_corp_culposa            0.000000\n",
              "latrocinio                    0.000000\n",
              "hom_por_interv_policial       0.000000\n",
              "tentat_hom                    0.000000\n",
              "lesao_corp_dolosa             0.000000\n",
              "fase                          0.000000\n",
              "furto_coletivo                0.000000\n",
              "total_roubos                  0.000000\n",
              "recuperacao_veiculos          0.000000\n",
              "indicador_roubo_veic          0.000000\n",
              "indicador_roubo_rua           0.000000\n",
              "indicador_letalidade          0.000000\n",
              "pol_civis_mortos_serv         0.000000\n",
              "pol_militares_mortos_serv     0.000000\n",
              "encontro_ossada               0.000000\n",
              "encontro_cadaver              0.000000\n",
              "pessoas_desaparecidas         0.000000\n",
              "ameaca                        0.000000\n",
              "apreensao_drogas              0.000000\n",
              "furto_veiculos                0.000000\n",
              "estelionato                   0.000000\n",
              "sequestro_relampago           0.000000\n",
              "extorsao                      0.000000\n",
              "sequestro                     0.000000\n",
              "total_furtos                  0.000000\n",
              "outros_furtos                 0.000000\n",
              "furto_celular                 0.000000\n",
              "registro_ocorrencias          0.000000\n",
              "furto_transeunte              0.000000\n",
              "vano                          0.000000\n",
              "dtype: float64"
            ]
          },
          "metadata": {
            "tags": []
          },
          "execution_count": 223
        }
      ]
    },
    {
      "cell_type": "markdown",
      "metadata": {
        "id": "ERsi_eYh0OPY"
      },
      "source": [
        "Agora conseguimos um intervalo mais interessante, com muito menos valores ausentes, com exceção das colunas sobre roubos e furtos de bicicleta. Mas nós observaremos isto mais à frente."
      ]
    },
    {
      "cell_type": "markdown",
      "metadata": {
        "id": "G6dnsNYm-41g"
      },
      "source": [
        "## Informações Estatísticas da Violência no Rio de Janeiro\n",
        "\n",
        "Para visualizar se há algum um outlier e a partir disso seguir nosso estudo, utilizaremos o método `describe()`\n"
      ]
    },
    {
      "cell_type": "code",
      "metadata": {
        "colab": {
          "base_uri": "https://localhost:8080/",
          "height": 317
        },
        "id": "UZTPBfHH1L0p",
        "outputId": "50d60e20-f796-4831-9fbe-c62106e9c4d7"
      },
      "source": [
        "df_cr.describe()"
      ],
      "execution_count": 224,
      "outputs": [
        {
          "output_type": "execute_result",
          "data": {
            "text/html": [
              "<div>\n",
              "<style scoped>\n",
              "    .dataframe tbody tr th:only-of-type {\n",
              "        vertical-align: middle;\n",
              "    }\n",
              "\n",
              "    .dataframe tbody tr th {\n",
              "        vertical-align: top;\n",
              "    }\n",
              "\n",
              "    .dataframe thead th {\n",
              "        text-align: right;\n",
              "    }\n",
              "</style>\n",
              "<table border=\"1\" class=\"dataframe\">\n",
              "  <thead>\n",
              "    <tr style=\"text-align: right;\">\n",
              "      <th></th>\n",
              "      <th>vano</th>\n",
              "      <th>mes</th>\n",
              "      <th>hom_doloso</th>\n",
              "      <th>lesao_corp_morte</th>\n",
              "      <th>latrocinio</th>\n",
              "      <th>hom_por_interv_policial</th>\n",
              "      <th>tentat_hom</th>\n",
              "      <th>lesao_corp_dolosa</th>\n",
              "      <th>estupro</th>\n",
              "      <th>hom_culposo</th>\n",
              "      <th>lesao_corp_culposa</th>\n",
              "      <th>roubo_comercio</th>\n",
              "      <th>roubo_residencia</th>\n",
              "      <th>roubo_veiculo</th>\n",
              "      <th>roubo_carga</th>\n",
              "      <th>roubo_transeunte</th>\n",
              "      <th>roubo_em_coletivo</th>\n",
              "      <th>roubo_banco</th>\n",
              "      <th>roubo_cx_eletronico</th>\n",
              "      <th>roubo_celular</th>\n",
              "      <th>roubo_conducao_saque</th>\n",
              "      <th>roubo_apos_saque</th>\n",
              "      <th>roubo_bicicleta</th>\n",
              "      <th>outros_roubos</th>\n",
              "      <th>total_roubos</th>\n",
              "      <th>furto_veiculos</th>\n",
              "      <th>furto_transeunte</th>\n",
              "      <th>furto_coletivo</th>\n",
              "      <th>furto_celular</th>\n",
              "      <th>furto_bicicleta</th>\n",
              "      <th>outros_furtos</th>\n",
              "      <th>total_furtos</th>\n",
              "      <th>sequestro</th>\n",
              "      <th>extorsao</th>\n",
              "      <th>sequestro_relampago</th>\n",
              "      <th>estelionato</th>\n",
              "      <th>apreensao_drogas</th>\n",
              "      <th>posse_drogas</th>\n",
              "      <th>trafico_drogas</th>\n",
              "      <th>apreensao_drogas_sem_autor</th>\n",
              "      <th>recuperacao_veiculos</th>\n",
              "      <th>apf</th>\n",
              "      <th>aaapai</th>\n",
              "      <th>cmp</th>\n",
              "      <th>cmba</th>\n",
              "      <th>ameaca</th>\n",
              "      <th>pessoas_desaparecidas</th>\n",
              "      <th>encontro_cadaver</th>\n",
              "      <th>encontro_ossada</th>\n",
              "      <th>pol_militares_mortos_serv</th>\n",
              "      <th>pol_civis_mortos_serv</th>\n",
              "      <th>indicador_letalidade</th>\n",
              "      <th>indicador_roubo_rua</th>\n",
              "      <th>indicador_roubo_veic</th>\n",
              "      <th>registro_ocorrencias</th>\n",
              "      <th>fase</th>\n",
              "    </tr>\n",
              "  </thead>\n",
              "  <tbody>\n",
              "    <tr>\n",
              "      <th>count</th>\n",
              "      <td>176.000000</td>\n",
              "      <td>176.000000</td>\n",
              "      <td>176.000000</td>\n",
              "      <td>176.000000</td>\n",
              "      <td>176.000000</td>\n",
              "      <td>176.000000</td>\n",
              "      <td>176.000000</td>\n",
              "      <td>176.000000</td>\n",
              "      <td>176.000000</td>\n",
              "      <td>176.000000</td>\n",
              "      <td>176.000000</td>\n",
              "      <td>176.000000</td>\n",
              "      <td>176.000000</td>\n",
              "      <td>176.000000</td>\n",
              "      <td>176.000000</td>\n",
              "      <td>176.000000</td>\n",
              "      <td>176.000000</td>\n",
              "      <td>176.000000</td>\n",
              "      <td>176.000000</td>\n",
              "      <td>176.000000</td>\n",
              "      <td>176.000000</td>\n",
              "      <td>176.000000</td>\n",
              "      <td>68.000000</td>\n",
              "      <td>176.000000</td>\n",
              "      <td>176.000000</td>\n",
              "      <td>176.000000</td>\n",
              "      <td>176.000000</td>\n",
              "      <td>176.000000</td>\n",
              "      <td>176.000000</td>\n",
              "      <td>68.000000</td>\n",
              "      <td>176.000000</td>\n",
              "      <td>176.000000</td>\n",
              "      <td>176.000000</td>\n",
              "      <td>176.000000</td>\n",
              "      <td>176.000000</td>\n",
              "      <td>176.000000</td>\n",
              "      <td>176.000000</td>\n",
              "      <td>164.000000</td>\n",
              "      <td>164.000000</td>\n",
              "      <td>164.000000</td>\n",
              "      <td>176.000000</td>\n",
              "      <td>164.000000</td>\n",
              "      <td>164.000000</td>\n",
              "      <td>164.000000</td>\n",
              "      <td>164.000000</td>\n",
              "      <td>176.000000</td>\n",
              "      <td>176.000000</td>\n",
              "      <td>176.000000</td>\n",
              "      <td>176.000000</td>\n",
              "      <td>176.000000</td>\n",
              "      <td>176.000000</td>\n",
              "      <td>176.000000</td>\n",
              "      <td>176.000000</td>\n",
              "      <td>176.000000</td>\n",
              "      <td>176.000000</td>\n",
              "      <td>176.000000</td>\n",
              "    </tr>\n",
              "    <tr>\n",
              "      <th>mean</th>\n",
              "      <td>2011.840909</td>\n",
              "      <td>6.409091</td>\n",
              "      <td>429.857955</td>\n",
              "      <td>3.681818</td>\n",
              "      <td>15.051136</td>\n",
              "      <td>79.278409</td>\n",
              "      <td>414.647727</td>\n",
              "      <td>6392.778409</td>\n",
              "      <td>389.176136</td>\n",
              "      <td>193.210227</td>\n",
              "      <td>3249.903409</td>\n",
              "      <td>478.102273</td>\n",
              "      <td>119.437500</td>\n",
              "      <td>2728.045455</td>\n",
              "      <td>456.880682</td>\n",
              "      <td>5562.892045</td>\n",
              "      <td>826.198864</td>\n",
              "      <td>2.352273</td>\n",
              "      <td>3.880682</td>\n",
              "      <td>969.937500</td>\n",
              "      <td>10.107955</td>\n",
              "      <td>133.375000</td>\n",
              "      <td>10.808824</td>\n",
              "      <td>1372.670455</td>\n",
              "      <td>12668.056818</td>\n",
              "      <td>1531.664773</td>\n",
              "      <td>2289.738636</td>\n",
              "      <td>724.960227</td>\n",
              "      <td>1550.875000</td>\n",
              "      <td>124.808824</td>\n",
              "      <td>7502.011364</td>\n",
              "      <td>13647.471591</td>\n",
              "      <td>0.579545</td>\n",
              "      <td>140.818182</td>\n",
              "      <td>8.454545</td>\n",
              "      <td>2403.823864</td>\n",
              "      <td>1485.812500</td>\n",
              "      <td>609.237805</td>\n",
              "      <td>759.146341</td>\n",
              "      <td>186.146341</td>\n",
              "      <td>2047.647727</td>\n",
              "      <td>2319.585366</td>\n",
              "      <td>568.628049</td>\n",
              "      <td>1255.512195</td>\n",
              "      <td>83.042683</td>\n",
              "      <td>5822.715909</td>\n",
              "      <td>442.659091</td>\n",
              "      <td>47.028409</td>\n",
              "      <td>3.085227</td>\n",
              "      <td>1.840909</td>\n",
              "      <td>0.346591</td>\n",
              "      <td>527.869318</td>\n",
              "      <td>7359.028409</td>\n",
              "      <td>2728.045455</td>\n",
              "      <td>59484.704545</td>\n",
              "      <td>2.988636</td>\n",
              "    </tr>\n",
              "    <tr>\n",
              "      <th>std</th>\n",
              "      <td>4.249064</td>\n",
              "      <td>3.443043</td>\n",
              "      <td>81.428161</td>\n",
              "      <td>2.135659</td>\n",
              "      <td>5.590062</td>\n",
              "      <td>37.202716</td>\n",
              "      <td>89.634628</td>\n",
              "      <td>946.668572</td>\n",
              "      <td>83.142203</td>\n",
              "      <td>36.759856</td>\n",
              "      <td>624.554604</td>\n",
              "      <td>106.970548</td>\n",
              "      <td>22.953283</td>\n",
              "      <td>908.304315</td>\n",
              "      <td>242.247813</td>\n",
              "      <td>1504.654153</td>\n",
              "      <td>317.777335</td>\n",
              "      <td>1.677003</td>\n",
              "      <td>2.590636</td>\n",
              "      <td>665.748714</td>\n",
              "      <td>5.090579</td>\n",
              "      <td>45.953595</td>\n",
              "      <td>7.767628</td>\n",
              "      <td>604.265083</td>\n",
              "      <td>3810.359330</td>\n",
              "      <td>218.598251</td>\n",
              "      <td>770.367727</td>\n",
              "      <td>184.333405</td>\n",
              "      <td>256.968228</td>\n",
              "      <td>80.247427</td>\n",
              "      <td>915.910894</td>\n",
              "      <td>1752.035616</td>\n",
              "      <td>0.922377</td>\n",
              "      <td>38.817241</td>\n",
              "      <td>4.975159</td>\n",
              "      <td>654.450983</td>\n",
              "      <td>553.176876</td>\n",
              "      <td>246.307700</td>\n",
              "      <td>312.871487</td>\n",
              "      <td>36.221243</td>\n",
              "      <td>565.201467</td>\n",
              "      <td>650.520866</td>\n",
              "      <td>248.040620</td>\n",
              "      <td>357.035450</td>\n",
              "      <td>62.951374</td>\n",
              "      <td>1011.199536</td>\n",
              "      <td>67.719233</td>\n",
              "      <td>16.451636</td>\n",
              "      <td>2.148384</td>\n",
              "      <td>1.510999</td>\n",
              "      <td>0.649650</td>\n",
              "      <td>102.170054</td>\n",
              "      <td>2308.738687</td>\n",
              "      <td>908.304315</td>\n",
              "      <td>7077.222526</td>\n",
              "      <td>0.106295</td>\n",
              "    </tr>\n",
              "    <tr>\n",
              "      <th>min</th>\n",
              "      <td>2005.000000</td>\n",
              "      <td>1.000000</td>\n",
              "      <td>272.000000</td>\n",
              "      <td>0.000000</td>\n",
              "      <td>5.000000</td>\n",
              "      <td>15.000000</td>\n",
              "      <td>268.000000</td>\n",
              "      <td>2521.000000</td>\n",
              "      <td>222.000000</td>\n",
              "      <td>111.000000</td>\n",
              "      <td>848.000000</td>\n",
              "      <td>277.000000</td>\n",
              "      <td>49.000000</td>\n",
              "      <td>1413.000000</td>\n",
              "      <td>170.000000</td>\n",
              "      <td>2260.000000</td>\n",
              "      <td>345.000000</td>\n",
              "      <td>0.000000</td>\n",
              "      <td>0.000000</td>\n",
              "      <td>301.000000</td>\n",
              "      <td>1.000000</td>\n",
              "      <td>11.000000</td>\n",
              "      <td>0.000000</td>\n",
              "      <td>782.000000</td>\n",
              "      <td>7740.000000</td>\n",
              "      <td>1159.000000</td>\n",
              "      <td>663.000000</td>\n",
              "      <td>167.000000</td>\n",
              "      <td>527.000000</td>\n",
              "      <td>0.000000</td>\n",
              "      <td>3089.000000</td>\n",
              "      <td>5795.000000</td>\n",
              "      <td>0.000000</td>\n",
              "      <td>49.000000</td>\n",
              "      <td>0.000000</td>\n",
              "      <td>717.000000</td>\n",
              "      <td>688.000000</td>\n",
              "      <td>248.000000</td>\n",
              "      <td>262.000000</td>\n",
              "      <td>114.000000</td>\n",
              "      <td>1219.000000</td>\n",
              "      <td>1173.000000</td>\n",
              "      <td>225.000000</td>\n",
              "      <td>628.000000</td>\n",
              "      <td>21.000000</td>\n",
              "      <td>1409.000000</td>\n",
              "      <td>236.000000</td>\n",
              "      <td>16.000000</td>\n",
              "      <td>0.000000</td>\n",
              "      <td>0.000000</td>\n",
              "      <td>0.000000</td>\n",
              "      <td>334.000000</td>\n",
              "      <td>3298.000000</td>\n",
              "      <td>1413.000000</td>\n",
              "      <td>31231.000000</td>\n",
              "      <td>2.000000</td>\n",
              "    </tr>\n",
              "    <tr>\n",
              "      <th>25%</th>\n",
              "      <td>2008.000000</td>\n",
              "      <td>3.000000</td>\n",
              "      <td>368.000000</td>\n",
              "      <td>2.000000</td>\n",
              "      <td>11.000000</td>\n",
              "      <td>49.000000</td>\n",
              "      <td>339.500000</td>\n",
              "      <td>5705.000000</td>\n",
              "      <td>327.750000</td>\n",
              "      <td>163.000000</td>\n",
              "      <td>2864.750000</td>\n",
              "      <td>396.000000</td>\n",
              "      <td>103.750000</td>\n",
              "      <td>2061.250000</td>\n",
              "      <td>269.000000</td>\n",
              "      <td>4531.500000</td>\n",
              "      <td>607.250000</td>\n",
              "      <td>1.000000</td>\n",
              "      <td>2.000000</td>\n",
              "      <td>545.250000</td>\n",
              "      <td>6.000000</td>\n",
              "      <td>94.000000</td>\n",
              "      <td>2.250000</td>\n",
              "      <td>928.500000</td>\n",
              "      <td>9877.000000</td>\n",
              "      <td>1356.250000</td>\n",
              "      <td>1756.250000</td>\n",
              "      <td>623.000000</td>\n",
              "      <td>1370.000000</td>\n",
              "      <td>3.750000</td>\n",
              "      <td>7166.250000</td>\n",
              "      <td>12704.750000</td>\n",
              "      <td>0.000000</td>\n",
              "      <td>120.750000</td>\n",
              "      <td>5.000000</td>\n",
              "      <td>1859.500000</td>\n",
              "      <td>937.500000</td>\n",
              "      <td>360.500000</td>\n",
              "      <td>426.000000</td>\n",
              "      <td>160.000000</td>\n",
              "      <td>1645.250000</td>\n",
              "      <td>1681.000000</td>\n",
              "      <td>332.500000</td>\n",
              "      <td>950.500000</td>\n",
              "      <td>46.000000</td>\n",
              "      <td>5073.250000</td>\n",
              "      <td>394.500000</td>\n",
              "      <td>36.750000</td>\n",
              "      <td>2.000000</td>\n",
              "      <td>1.000000</td>\n",
              "      <td>0.000000</td>\n",
              "      <td>445.750000</td>\n",
              "      <td>5634.250000</td>\n",
              "      <td>2061.250000</td>\n",
              "      <td>54439.000000</td>\n",
              "      <td>3.000000</td>\n",
              "    </tr>\n",
              "    <tr>\n",
              "      <th>50%</th>\n",
              "      <td>2012.000000</td>\n",
              "      <td>6.000000</td>\n",
              "      <td>421.000000</td>\n",
              "      <td>3.000000</td>\n",
              "      <td>14.500000</td>\n",
              "      <td>75.500000</td>\n",
              "      <td>393.000000</td>\n",
              "      <td>6381.000000</td>\n",
              "      <td>402.000000</td>\n",
              "      <td>187.500000</td>\n",
              "      <td>3319.000000</td>\n",
              "      <td>441.000000</td>\n",
              "      <td>119.000000</td>\n",
              "      <td>2555.500000</td>\n",
              "      <td>371.000000</td>\n",
              "      <td>5358.000000</td>\n",
              "      <td>771.000000</td>\n",
              "      <td>2.000000</td>\n",
              "      <td>3.000000</td>\n",
              "      <td>682.000000</td>\n",
              "      <td>9.000000</td>\n",
              "      <td>142.500000</td>\n",
              "      <td>13.000000</td>\n",
              "      <td>1167.000000</td>\n",
              "      <td>11524.500000</td>\n",
              "      <td>1455.500000</td>\n",
              "      <td>2325.000000</td>\n",
              "      <td>753.500000</td>\n",
              "      <td>1542.500000</td>\n",
              "      <td>158.000000</td>\n",
              "      <td>7574.500000</td>\n",
              "      <td>13844.000000</td>\n",
              "      <td>0.000000</td>\n",
              "      <td>137.000000</td>\n",
              "      <td>7.000000</td>\n",
              "      <td>2544.000000</td>\n",
              "      <td>1479.500000</td>\n",
              "      <td>623.000000</td>\n",
              "      <td>815.000000</td>\n",
              "      <td>184.000000</td>\n",
              "      <td>1968.500000</td>\n",
              "      <td>2424.000000</td>\n",
              "      <td>530.000000</td>\n",
              "      <td>1259.000000</td>\n",
              "      <td>58.000000</td>\n",
              "      <td>5846.500000</td>\n",
              "      <td>436.500000</td>\n",
              "      <td>45.000000</td>\n",
              "      <td>3.000000</td>\n",
              "      <td>2.000000</td>\n",
              "      <td>0.000000</td>\n",
              "      <td>526.000000</td>\n",
              "      <td>6837.000000</td>\n",
              "      <td>2555.500000</td>\n",
              "      <td>59810.000000</td>\n",
              "      <td>3.000000</td>\n",
              "    </tr>\n",
              "    <tr>\n",
              "      <th>75%</th>\n",
              "      <td>2015.250000</td>\n",
              "      <td>9.000000</td>\n",
              "      <td>483.000000</td>\n",
              "      <td>5.000000</td>\n",
              "      <td>18.000000</td>\n",
              "      <td>102.250000</td>\n",
              "      <td>482.500000</td>\n",
              "      <td>7055.750000</td>\n",
              "      <td>450.500000</td>\n",
              "      <td>220.000000</td>\n",
              "      <td>3723.250000</td>\n",
              "      <td>552.000000</td>\n",
              "      <td>135.000000</td>\n",
              "      <td>3120.250000</td>\n",
              "      <td>624.750000</td>\n",
              "      <td>6693.250000</td>\n",
              "      <td>923.250000</td>\n",
              "      <td>3.000000</td>\n",
              "      <td>5.000000</td>\n",
              "      <td>1144.500000</td>\n",
              "      <td>13.250000</td>\n",
              "      <td>165.250000</td>\n",
              "      <td>17.000000</td>\n",
              "      <td>1540.750000</td>\n",
              "      <td>14002.750000</td>\n",
              "      <td>1726.250000</td>\n",
              "      <td>2644.000000</td>\n",
              "      <td>869.250000</td>\n",
              "      <td>1750.750000</td>\n",
              "      <td>181.500000</td>\n",
              "      <td>8053.500000</td>\n",
              "      <td>14681.250000</td>\n",
              "      <td>1.000000</td>\n",
              "      <td>157.500000</td>\n",
              "      <td>11.000000</td>\n",
              "      <td>2962.500000</td>\n",
              "      <td>1960.750000</td>\n",
              "      <td>763.500000</td>\n",
              "      <td>1045.250000</td>\n",
              "      <td>208.000000</td>\n",
              "      <td>2355.000000</td>\n",
              "      <td>2905.500000</td>\n",
              "      <td>793.500000</td>\n",
              "      <td>1515.250000</td>\n",
              "      <td>93.000000</td>\n",
              "      <td>6621.500000</td>\n",
              "      <td>493.250000</td>\n",
              "      <td>55.000000</td>\n",
              "      <td>4.000000</td>\n",
              "      <td>3.000000</td>\n",
              "      <td>1.000000</td>\n",
              "      <td>607.250000</td>\n",
              "      <td>8404.250000</td>\n",
              "      <td>3120.250000</td>\n",
              "      <td>65278.250000</td>\n",
              "      <td>3.000000</td>\n",
              "    </tr>\n",
              "    <tr>\n",
              "      <th>max</th>\n",
              "      <td>2019.000000</td>\n",
              "      <td>12.000000</td>\n",
              "      <td>682.000000</td>\n",
              "      <td>10.000000</td>\n",
              "      <td>30.000000</td>\n",
              "      <td>194.000000</td>\n",
              "      <td>645.000000</td>\n",
              "      <td>9050.000000</td>\n",
              "      <td>561.000000</td>\n",
              "      <td>299.000000</td>\n",
              "      <td>4313.000000</td>\n",
              "      <td>774.000000</td>\n",
              "      <td>185.000000</td>\n",
              "      <td>5358.000000</td>\n",
              "      <td>1329.000000</td>\n",
              "      <td>9669.000000</td>\n",
              "      <td>1628.000000</td>\n",
              "      <td>9.000000</td>\n",
              "      <td>12.000000</td>\n",
              "      <td>2626.000000</td>\n",
              "      <td>25.000000</td>\n",
              "      <td>249.000000</td>\n",
              "      <td>26.000000</td>\n",
              "      <td>3661.000000</td>\n",
              "      <td>23203.000000</td>\n",
              "      <td>2041.000000</td>\n",
              "      <td>5368.000000</td>\n",
              "      <td>1036.000000</td>\n",
              "      <td>2215.000000</td>\n",
              "      <td>243.000000</td>\n",
              "      <td>9880.000000</td>\n",
              "      <td>18003.000000</td>\n",
              "      <td>5.000000</td>\n",
              "      <td>271.000000</td>\n",
              "      <td>31.000000</td>\n",
              "      <td>3627.000000</td>\n",
              "      <td>2543.000000</td>\n",
              "      <td>1160.000000</td>\n",
              "      <td>1282.000000</td>\n",
              "      <td>289.000000</td>\n",
              "      <td>3695.000000</td>\n",
              "      <td>3425.000000</td>\n",
              "      <td>1114.000000</td>\n",
              "      <td>2314.000000</td>\n",
              "      <td>350.000000</td>\n",
              "      <td>9034.000000</td>\n",
              "      <td>628.000000</td>\n",
              "      <td>100.000000</td>\n",
              "      <td>13.000000</td>\n",
              "      <td>7.000000</td>\n",
              "      <td>3.000000</td>\n",
              "      <td>804.000000</td>\n",
              "      <td>13833.000000</td>\n",
              "      <td>5358.000000</td>\n",
              "      <td>75403.000000</td>\n",
              "      <td>3.000000</td>\n",
              "    </tr>\n",
              "  </tbody>\n",
              "</table>\n",
              "</div>"
            ],
            "text/plain": [
              "              vano         mes  ...  registro_ocorrencias        fase\n",
              "count   176.000000  176.000000  ...            176.000000  176.000000\n",
              "mean   2011.840909    6.409091  ...          59484.704545    2.988636\n",
              "std       4.249064    3.443043  ...           7077.222526    0.106295\n",
              "min    2005.000000    1.000000  ...          31231.000000    2.000000\n",
              "25%    2008.000000    3.000000  ...          54439.000000    3.000000\n",
              "50%    2012.000000    6.000000  ...          59810.000000    3.000000\n",
              "75%    2015.250000    9.000000  ...          65278.250000    3.000000\n",
              "max    2019.000000   12.000000  ...          75403.000000    3.000000\n",
              "\n",
              "[8 rows x 56 columns]"
            ]
          },
          "metadata": {
            "tags": []
          },
          "execution_count": 224
        }
      ]
    },
    {
      "cell_type": "markdown",
      "metadata": {
        "id": "rW55-lcI1fmb"
      },
      "source": [
        "O método describe nos retorna as máximas, mínimas, médias, quartis, desvio padrão, média, soma e soma de unidades de nossas variáveis.\r\n",
        "\r\n",
        "Ao analisar esses valores, mesmo que os máximos tenham algum distância dos outros, não há valores tão diferentes do que se esperaria.\r\n",
        "\r\n",
        "*Inicialmente não faremos nenhuma limpeza ou substituição de dados, pois isso será feito conforme cada seção do projeto necessite*"
      ]
    },
    {
      "cell_type": "markdown",
      "metadata": {
        "id": "cv4Mn8F6E2DU"
      },
      "source": [
        "---\r\n",
        "Para continuar nossa análise, vamos analisar os crimes por seção."
      ]
    },
    {
      "cell_type": "markdown",
      "metadata": {
        "id": "q_sD6H9_1y8P"
      },
      "source": [
        "## **Crimes contra o patrimônio - Veículos**\r\n",
        "Crime que infelizmente é muito comum nas grandes cidades brasileiras. Com os dados de roubo, furto e recuperação presentes no dataset, conseguimos explorar de uma forma mais profunda o crime contra este patrimônio específico."
      ]
    },
    {
      "cell_type": "code",
      "metadata": {
        "colab": {
          "base_uri": "https://localhost:8080/",
          "height": 142
        },
        "id": "iSFhgDn23IuY",
        "outputId": "05826399-9ddc-4856-903b-925978a9e9b8"
      },
      "source": [
        "# Vamos separar um dataset apenas com os dados sobre veículos\r\n",
        "\r\n",
        "df_crimeve = df_cr[['vano','mes','recuperacao_veiculos','roubo_veiculo','furto_veiculos']]\r\n",
        "df_crimeve.head(3)"
      ],
      "execution_count": 225,
      "outputs": [
        {
          "output_type": "execute_result",
          "data": {
            "text/html": [
              "<div>\n",
              "<style scoped>\n",
              "    .dataframe tbody tr th:only-of-type {\n",
              "        vertical-align: middle;\n",
              "    }\n",
              "\n",
              "    .dataframe tbody tr th {\n",
              "        vertical-align: top;\n",
              "    }\n",
              "\n",
              "    .dataframe thead th {\n",
              "        text-align: right;\n",
              "    }\n",
              "</style>\n",
              "<table border=\"1\" class=\"dataframe\">\n",
              "  <thead>\n",
              "    <tr style=\"text-align: right;\">\n",
              "      <th></th>\n",
              "      <th>vano</th>\n",
              "      <th>mes</th>\n",
              "      <th>recuperacao_veiculos</th>\n",
              "      <th>roubo_veiculo</th>\n",
              "      <th>furto_veiculos</th>\n",
              "    </tr>\n",
              "  </thead>\n",
              "  <tbody>\n",
              "    <tr>\n",
              "      <th>168</th>\n",
              "      <td>2005</td>\n",
              "      <td>1</td>\n",
              "      <td>2209</td>\n",
              "      <td>2747</td>\n",
              "      <td>1749</td>\n",
              "    </tr>\n",
              "    <tr>\n",
              "      <th>169</th>\n",
              "      <td>2005</td>\n",
              "      <td>2</td>\n",
              "      <td>2129</td>\n",
              "      <td>2610</td>\n",
              "      <td>1521</td>\n",
              "    </tr>\n",
              "    <tr>\n",
              "      <th>170</th>\n",
              "      <td>2005</td>\n",
              "      <td>3</td>\n",
              "      <td>2459</td>\n",
              "      <td>3056</td>\n",
              "      <td>1811</td>\n",
              "    </tr>\n",
              "  </tbody>\n",
              "</table>\n",
              "</div>"
            ],
            "text/plain": [
              "     vano  mes  recuperacao_veiculos  roubo_veiculo  furto_veiculos\n",
              "168  2005    1                  2209           2747            1749\n",
              "169  2005    2                  2129           2610            1521\n",
              "170  2005    3                  2459           3056            1811"
            ]
          },
          "metadata": {
            "tags": []
          },
          "execution_count": 225
        }
      ]
    },
    {
      "cell_type": "markdown",
      "metadata": {
        "id": "2cU7sJEIFpUv"
      },
      "source": [
        "Uma vez que não possuímos valores nulos no dataframe, vamos observar como média de cada variável se comporta por ano"
      ]
    },
    {
      "cell_type": "code",
      "metadata": {
        "colab": {
          "base_uri": "https://localhost:8080/",
          "height": 349
        },
        "id": "IFvIXFDv4Er8",
        "outputId": "4712f013-8171-44e4-b543-7c5816e32c4c"
      },
      "source": [
        "#Vamos visualizar a média por ano\r\n",
        "df_crimeve_anoaux = df_crimeve.groupby(['vano'])['recuperacao_veiculos', 'roubo_veiculo',\r\n",
        "       'furto_veiculos'].mean()\r\n",
        "#Agora plotando o gráfico\r\n",
        "df_crimeve_anoaux.plot(xlabel='Ano',\r\n",
        "                       ylabel='Média',\r\n",
        "                       title='Média de crimes e recuperação à veículos por ano');"
      ],
      "execution_count": 226,
      "outputs": [
        {
          "output_type": "stream",
          "text": [
            "/usr/local/lib/python3.6/dist-packages/ipykernel_launcher.py:3: FutureWarning: Indexing with multiple keys (implicitly converted to a tuple of keys) will be deprecated, use a list instead.\n",
            "  This is separate from the ipykernel package so we can avoid doing imports until\n"
          ],
          "name": "stderr"
        },
        {
          "output_type": "display_data",
          "data": {
            "image/png": "[encoded data removed]",
            "text/plain": [
              "<Figure size 432x288 with 1 Axes>"
            ]
          },
          "metadata": {
            "tags": [],
            "needs_background": "light"
          }
        }
      ]
    },
    {
      "cell_type": "markdown",
      "metadata": {
        "id": "cbz0HMQ-7MjQ"
      },
      "source": [
        "Percebe-se pelo gráfico que apesar da variável `furto_veiculos` possuir um comportamento diferente, as variáveis de `roubo_veiculo` e `recuperacao_veiculos` tem um comportamento bastante parecido, o que pode indicar que quando o veículo é roubado e não furtado, há mais chances de a polícia conseguir recuperar.\r\n",
        "Para tentar observar isso, vamos fazer a correlação entre nossas variaveis."
      ]
    },
    {
      "cell_type": "code",
      "metadata": {
        "colab": {
          "base_uri": "https://localhost:8080/",
          "height": 367
        },
        "id": "rNIaDJ3K8TbR",
        "outputId": "f1af37ed-81f8-4674-e778-80bc7271430e"
      },
      "source": [
        "correl_crimeve = df_crimeve.corr()\r\n",
        "sns.heatmap(correl_crimeve, cmap='RdBu', fmt='.2f', square=True, linecolor='white', annot=True);"
      ],
      "execution_count": 227,
      "outputs": [
        {
          "output_type": "display_data",
          "data": {
            "image/png": "[encoded data removed]",
            "text/plain": [
              "<Figure size 432x288 with 2 Axes>"
            ]
          },
          "metadata": {
            "tags": [],
            "needs_background": "light"
          }
        }
      ]
    },
    {
      "cell_type": "markdown",
      "metadata": {
        "id": "gQdNo2Wa-RmU"
      },
      "source": [
        "Percebe-se que como já imaginado, a recuperação de veículos tem uma correlação altíssima, de `0.96`, com a modalidade roubo de veículos."
      ]
    },
    {
      "cell_type": "markdown",
      "metadata": {
        "id": "Mv_lSBEB-nfS"
      },
      "source": [
        "Agora vamos ver qual a porcentagem de veículos que são recuperados após o crime."
      ]
    },
    {
      "cell_type": "code",
      "metadata": {
        "colab": {
          "base_uri": "https://localhost:8080/"
        },
        "id": "a0nZcArX-zL8",
        "outputId": "f724c828-588e-4013-d587-fd4b2f4dbfc3"
      },
      "source": [
        "pct_recupaux = df_crimeve['recuperacao_veiculos'].sum() / (df_crimeve['furto_veiculos'].sum() + df_crimeve['roubo_veiculo'].sum())\r\n",
        "print('Ao todo foram recuperados {:.0f}% dos veículos após o crime'.format(pct_recupaux*100))"
      ],
      "execution_count": 246,
      "outputs": [
        {
          "output_type": "stream",
          "text": [
            "Ao todo foram recuperados 48% dos veículos após o crime\n"
          ],
          "name": "stdout"
        }
      ]
    },
    {
      "cell_type": "markdown",
      "metadata": {
        "id": "9-kUQQsrAnJo"
      },
      "source": [
        "Para finalizar a análise dessa seção, vamos observar como essa taxa de recuperação se comportou ao longo dos anos. Para isso, vamos criar uma coluna para essa taxa."
      ]
    },
    {
      "cell_type": "code",
      "metadata": {
        "colab": {
          "base_uri": "https://localhost:8080/",
          "height": 397
        },
        "id": "tkpCROLv-AWt",
        "outputId": "face8a77-ea6e-40e7-a3de-6e3aa662dd98"
      },
      "source": [
        "#Criando a coluna\r\n",
        "df_crimeve['taxa_recup'] = df_crimeve['recuperacao_veiculos'] / (df_crimeve['furto_veiculos'] + df_crimeve['roubo_veiculo'])\r\n",
        "# Agora vamos observar como a taxa se comportou ao longo dos anos\r\n",
        "df_crimeve.groupby(['vano'])['taxa_recup'].mean().plot(title=\"Taxa média de recuperação de veículos por ano\",\r\n",
        "                                                       xlabel=\"Ano\",\r\n",
        "                                                       ylabel=\"Média\");"
      ],
      "execution_count": 229,
      "outputs": [
        {
          "output_type": "stream",
          "text": [
            "/usr/local/lib/python3.6/dist-packages/ipykernel_launcher.py:2: SettingWithCopyWarning: \n",
            "A value is trying to be set on a copy of a slice from a DataFrame.\n",
            "Try using .loc[row_indexer,col_indexer] = value instead\n",
            "\n",
            "See the caveats in the documentation: https://pandas.pydata.org/pandas-docs/stable/user_guide/indexing.html#returning-a-view-versus-a-copy\n",
            "  \n"
          ],
          "name": "stderr"
        },
        {
          "output_type": "display_data",
          "data": {
            "image/png": "[encoded data removed]",
            "text/plain": [
              "<Figure size 432x288 with 1 Axes>"
            ]
          },
          "metadata": {
            "tags": [],
            "needs_background": "light"
          }
        }
      ]
    },
    {
      "cell_type": "markdown",
      "metadata": {
        "id": "Sc70UsoHCoS_"
      },
      "source": [
        "É possível observar pelo gráfico que no ínicio da série histórica a taxa de recuperação de veículos sofre uma queda, mas a partir do início dos anos 2010 essa taxa dá um salto e chega na sua máxima, já mais recentemente, ao final da série, a taxa volta a cair.\r\n",
        "\r\n",
        "--\r\n",
        "\r\n",
        "**Por que esse tipo de análise é importante?**\r\n",
        "\r\n",
        "Para por exemplo, em caso de uma queda no indicador, o tomador de decisão poder visualizar quais os anos que a atuação para a recuperação de veículos foi mais efetiva e a partir disso entender o que era feito para o sucesso e aplicar na prática."
      ]
    },
    {
      "cell_type": "markdown",
      "metadata": {
        "id": "LkCFPPh7JA9Q"
      },
      "source": [
        "## **Crimes contra Policiais**\r\n",
        "A profissão de policial é extremamente perigosa e deve-se analisar sempre como elas estão acontencendo para podermos poupar o máximo de vidas possíveis. Vamos observar no dataset o que ele pode nos dizer sobre essas ocorrências."
      ]
    },
    {
      "cell_type": "markdown",
      "metadata": {
        "id": "LKBIg40UJYy1"
      },
      "source": [
        "Primeiramente vamos criar um dataframe com as colunas que nos interessam para essa seção: \r\n",
        "`pol_civis_mortos_serv`, `pol_militares_mortos_serv`, `hom_por_interv_policial`"
      ]
    },
    {
      "cell_type": "code",
      "metadata": {
        "colab": {
          "base_uri": "https://localhost:8080/",
          "height": 142
        },
        "id": "Y4N-Nc-YJWyX",
        "outputId": "b6d1e9c5-e0f5-45d6-eda0-529684833e20"
      },
      "source": [
        "df_crimepol = df_cr[['vano','mes','pol_civis_mortos_serv','pol_militares_mortos_serv','hom_por_interv_policial']]\r\n",
        "df_crimepol.head(3)"
      ],
      "execution_count": 230,
      "outputs": [
        {
          "output_type": "execute_result",
          "data": {
            "text/html": [
              "<div>\n",
              "<style scoped>\n",
              "    .dataframe tbody tr th:only-of-type {\n",
              "        vertical-align: middle;\n",
              "    }\n",
              "\n",
              "    .dataframe tbody tr th {\n",
              "        vertical-align: top;\n",
              "    }\n",
              "\n",
              "    .dataframe thead th {\n",
              "        text-align: right;\n",
              "    }\n",
              "</style>\n",
              "<table border=\"1\" class=\"dataframe\">\n",
              "  <thead>\n",
              "    <tr style=\"text-align: right;\">\n",
              "      <th></th>\n",
              "      <th>vano</th>\n",
              "      <th>mes</th>\n",
              "      <th>pol_civis_mortos_serv</th>\n",
              "      <th>pol_militares_mortos_serv</th>\n",
              "      <th>hom_por_interv_policial</th>\n",
              "    </tr>\n",
              "  </thead>\n",
              "  <tbody>\n",
              "    <tr>\n",
              "      <th>168</th>\n",
              "      <td>2005</td>\n",
              "      <td>1</td>\n",
              "      <td>0.0</td>\n",
              "      <td>1.0</td>\n",
              "      <td>72.0</td>\n",
              "    </tr>\n",
              "    <tr>\n",
              "      <th>169</th>\n",
              "      <td>2005</td>\n",
              "      <td>2</td>\n",
              "      <td>1.0</td>\n",
              "      <td>3.0</td>\n",
              "      <td>59.0</td>\n",
              "    </tr>\n",
              "    <tr>\n",
              "      <th>170</th>\n",
              "      <td>2005</td>\n",
              "      <td>3</td>\n",
              "      <td>1.0</td>\n",
              "      <td>4.0</td>\n",
              "      <td>94.0</td>\n",
              "    </tr>\n",
              "  </tbody>\n",
              "</table>\n",
              "</div>"
            ],
            "text/plain": [
              "     vano  mes  ...  pol_militares_mortos_serv  hom_por_interv_policial\n",
              "168  2005    1  ...                        1.0                     72.0\n",
              "169  2005    2  ...                        3.0                     59.0\n",
              "170  2005    3  ...                        4.0                     94.0\n",
              "\n",
              "[3 rows x 5 columns]"
            ]
          },
          "metadata": {
            "tags": []
          },
          "execution_count": 230
        }
      ]
    },
    {
      "cell_type": "markdown",
      "metadata": {
        "id": "-OakXl5DShxL"
      },
      "source": [
        "Vamos começar a visualizar os comportamentos por ano dessas variáveis. Primeiramente vamos ver a correlação entre as variáveis."
      ]
    },
    {
      "cell_type": "code",
      "metadata": {
        "colab": {
          "base_uri": "https://localhost:8080/",
          "height": 389
        },
        "id": "rnZ7U_L6WE0q",
        "outputId": "3c84b699-4e97-4b94-c573-f45a048d8338"
      },
      "source": [
        "#Fazendo e plotando a correlação\r\n",
        "correl_crimepol = df_crimepol.corr()\r\n",
        "sns.heatmap(correl_crimepol, cmap='RdBu', fmt='.2f', square=True, linecolor='white', annot=True);"
      ],
      "execution_count": 231,
      "outputs": [
        {
          "output_type": "display_data",
          "data": {
            "image/png": "[encoded data removed]",
            "text/plain": [
              "<Figure size 432x288 with 2 Axes>"
            ]
          },
          "metadata": {
            "tags": [],
            "needs_background": "light"
          }
        }
      ]
    },
    {
      "cell_type": "markdown",
      "metadata": {
        "id": "onnd-xviWuOn"
      },
      "source": [
        "Como você pode ver, não há nenhuma correlação que indique algo, então vamos tentar outra forma de visualizar as variáveis. Vamos testar um boxplot para ver a variação das variáveis de mortes de policiais civis e militares por mês"
      ]
    },
    {
      "cell_type": "code",
      "metadata": {
        "colab": {
          "base_uri": "https://localhost:8080/",
          "height": 283
        },
        "id": "fiS3fd5NXB-R",
        "outputId": "e85ceeec-9c98-4a10-8340-3ed533ffc95c"
      },
      "source": [
        "# Para a Policia Civil\r\n",
        "df_crimepol.pol_civis_mortos_serv.plot(kind='box')"
      ],
      "execution_count": 232,
      "outputs": [
        {
          "output_type": "execute_result",
          "data": {
            "text/plain": [
              "<matplotlib.axes._subplots.AxesSubplot at 0x7f78ae51a668>"
            ]
          },
          "metadata": {
            "tags": []
          },
          "execution_count": 232
        },
        {
          "output_type": "display_data",
          "data": {
            "image/png": "[encoded data removed]",
            "text/plain": [
              "<Figure size 432x288 with 1 Axes>"
            ]
          },
          "metadata": {
            "tags": [],
            "needs_background": "light"
          }
        }
      ]
    },
    {
      "cell_type": "code",
      "metadata": {
        "colab": {
          "base_uri": "https://localhost:8080/",
          "height": 283
        },
        "id": "igH20xWgXTiG",
        "outputId": "d809cb2a-6d44-48f9-de98-467140fed27c"
      },
      "source": [
        "# Para a Polícia militar\r\n",
        "df_crimepol.pol_militares_mortos_serv.plot(kind='box')"
      ],
      "execution_count": 233,
      "outputs": [
        {
          "output_type": "execute_result",
          "data": {
            "text/plain": [
              "<matplotlib.axes._subplots.AxesSubplot at 0x7f78ae6b67f0>"
            ]
          },
          "metadata": {
            "tags": []
          },
          "execution_count": 233
        },
        {
          "output_type": "display_data",
          "data": {
            "image/png": "[encoded data removed]",
            "text/plain": [
              "<Figure size 432x288 with 1 Axes>"
            ]
          },
          "metadata": {
            "tags": [],
            "needs_background": "light"
          }
        }
      ]
    },
    {
      "cell_type": "markdown",
      "metadata": {
        "id": "ae5WdLc8ZHvC"
      },
      "source": [
        "Para finalizar essa seção, vamos fazer o gráfico de linhas das variáveis, para entender como elas se comportaram ao longo dos anos."
      ]
    },
    {
      "cell_type": "code",
      "metadata": {
        "colab": {
          "base_uri": "https://localhost:8080/",
          "height": 295
        },
        "id": "Gr_FbjDMZUdJ",
        "outputId": "b715be98-3658-4082-8411-19dffaac1661"
      },
      "source": [
        "# Primeiramente para a variável de número de homicídios ocorridos por intervenção policial.\r\n",
        "df_crimepol.groupby(['vano'])['hom_por_interv_policial'].mean().plot(title='Média de homícidios cometidos por intervenção policial por ano',\r\n",
        "                                                                     ylabel='Média',xlabel='Ano');"
      ],
      "execution_count": 234,
      "outputs": [
        {
          "output_type": "display_data",
          "data": {
            "image/png": "[encoded data removed]",
            "text/plain": [
              "<Figure size 432x288 with 1 Axes>"
            ]
          },
          "metadata": {
            "tags": [],
            "needs_background": "light"
          }
        }
      ]
    },
    {
      "cell_type": "markdown",
      "metadata": {
        "id": "N0uZ4tu2bCvX"
      },
      "source": [
        "Aqui podemos ver que o numéro de mortes por intervenção policial aumentou muito de 2015 em diante. Mas também queria fazer a reflexão que, talvez a anomalia desse gráfico seja a redução do número de mortes, ocorrida após 2008, o que podemos dar como hipótese é a implementação do programa de UPPs no Rio de Janeiro. Segue [texto do El País sobre o tema]('https://brasil.elpais.com/brasil/2018/03/11/politica/1520769227_645322.html')."
      ]
    },
    {
      "cell_type": "code",
      "metadata": {
        "colab": {
          "base_uri": "https://localhost:8080/",
          "height": 349
        },
        "id": "zBvPheD1UEno",
        "outputId": "66b73f33-fe49-49bb-cdd2-c9059d330d07"
      },
      "source": [
        "# Agora para as variáveis de mortes de policias civis e militares em serviço\r\n",
        "crimepolaux = df_crimepol.groupby(['vano'])['pol_civis_mortos_serv', 'pol_militares_mortos_serv'].mean()\r\n",
        "crimepolaux.plot(title='Média de mortes de policiais civis e militares por ano',\r\n",
        "                 xlabel='Ano',\r\n",
        "                 ylabel = 'Média');"
      ],
      "execution_count": 235,
      "outputs": [
        {
          "output_type": "stream",
          "text": [
            "/usr/local/lib/python3.6/dist-packages/ipykernel_launcher.py:2: FutureWarning: Indexing with multiple keys (implicitly converted to a tuple of keys) will be deprecated, use a list instead.\n",
            "  \n"
          ],
          "name": "stderr"
        },
        {
          "output_type": "display_data",
          "data": {
            "image/png": "[encoded data removed]",
            "text/plain": [
              "<Figure size 432x288 with 1 Axes>"
            ]
          },
          "metadata": {
            "tags": [],
            "needs_background": "light"
          }
        }
      ]
    },
    {
      "cell_type": "markdown",
      "metadata": {
        "id": "UoTkf3VScJEi"
      },
      "source": [
        "Agora em relação às variáveis sobre mortes de policias civis e militares, observando os boxplots e os gráficos de linha, percebemos que as mortes na polícia civil variam muito menos do que as da polícia militar.\r\n",
        "\r\n",
        "--\r\n",
        "\r\n",
        "**Por que esse tipo de análise é importante?**\r\n",
        "\r\n",
        "Observando esses dados, talvez a gente consiga extrair a informação que a policia civil tem uma política de proteção ao seu policial mais efetiva que a militar, munindo o tomador de decisões dessa informação, nós podemos até incentivar um intercâmbio de conhecimento entre as polícias."
      ]
    },
    {
      "cell_type": "markdown",
      "metadata": {
        "id": "lbb-cO-dexQJ"
      },
      "source": [
        "## **Crimes de Roubos e Furtos**\r\n",
        "Para finalizar nossa análise exploratória de dados, vamos pegar essa seção com o tipo de crime mais cotidiano nas cidades brasileiras, infelizmente, se você mora numa cidade grande, as chances de ter sido roubado ou furtado são grandes."
      ]
    },
    {
      "cell_type": "markdown",
      "metadata": {
        "id": "rVcMCNBkfpzS"
      },
      "source": [
        "Para iniciar, vamos criar um Dataframe com as colunas que nos interessam pra análise. Nossa exploração, inicialmente vai avaliar os roubos e furtos separadamente."
      ]
    },
    {
      "cell_type": "code",
      "metadata": {
        "colab": {
          "base_uri": "https://localhost:8080/",
          "height": 162
        },
        "id": "3JbH7H8JgBVt",
        "outputId": "5d97847b-0aea-40cb-9ec9-3cae558910d8"
      },
      "source": [
        "# Dataframe para roubos\r\n",
        "df_roubos = df_cr[['vano',\r\n",
        "                   'mes',\r\n",
        "                   'roubo_apos_saque',\r\n",
        "                  'roubo_banco',\r\n",
        "                  'roubo_bicicleta',\r\n",
        "                  'roubo_carga',\r\n",
        "                  'roubo_celular',\r\n",
        "                  'roubo_comercio',\r\n",
        "                  'roubo_conducao_saque',\r\n",
        "                  'roubo_cx_eletronico',\r\n",
        "                  'roubo_em_coletivo',\r\n",
        "                  'roubo_residencia',\r\n",
        "                  'roubo_transeunte',\r\n",
        "                  'roubo_veiculo',\r\n",
        "                  'outros_roubos',\r\n",
        "                  'total_roubos']]\r\n",
        "df_roubos.head(3)"
      ],
      "execution_count": 236,
      "outputs": [
        {
          "output_type": "execute_result",
          "data": {
            "text/html": [
              "<div>\n",
              "<style scoped>\n",
              "    .dataframe tbody tr th:only-of-type {\n",
              "        vertical-align: middle;\n",
              "    }\n",
              "\n",
              "    .dataframe tbody tr th {\n",
              "        vertical-align: top;\n",
              "    }\n",
              "\n",
              "    .dataframe thead th {\n",
              "        text-align: right;\n",
              "    }\n",
              "</style>\n",
              "<table border=\"1\" class=\"dataframe\">\n",
              "  <thead>\n",
              "    <tr style=\"text-align: right;\">\n",
              "      <th></th>\n",
              "      <th>vano</th>\n",
              "      <th>mes</th>\n",
              "      <th>roubo_apos_saque</th>\n",
              "      <th>roubo_banco</th>\n",
              "      <th>roubo_bicicleta</th>\n",
              "      <th>roubo_carga</th>\n",
              "      <th>roubo_celular</th>\n",
              "      <th>roubo_comercio</th>\n",
              "      <th>roubo_conducao_saque</th>\n",
              "      <th>roubo_cx_eletronico</th>\n",
              "      <th>roubo_em_coletivo</th>\n",
              "      <th>roubo_residencia</th>\n",
              "      <th>roubo_transeunte</th>\n",
              "      <th>roubo_veiculo</th>\n",
              "      <th>outros_roubos</th>\n",
              "      <th>total_roubos</th>\n",
              "    </tr>\n",
              "  </thead>\n",
              "  <tbody>\n",
              "    <tr>\n",
              "      <th>168</th>\n",
              "      <td>2005</td>\n",
              "      <td>1</td>\n",
              "      <td>166.0</td>\n",
              "      <td>1</td>\n",
              "      <td>NaN</td>\n",
              "      <td>402</td>\n",
              "      <td>441.0</td>\n",
              "      <td>428</td>\n",
              "      <td>25.0</td>\n",
              "      <td>4.0</td>\n",
              "      <td>650</td>\n",
              "      <td>155</td>\n",
              "      <td>2424</td>\n",
              "      <td>2747</td>\n",
              "      <td>1304</td>\n",
              "      <td>8747</td>\n",
              "    </tr>\n",
              "    <tr>\n",
              "      <th>169</th>\n",
              "      <td>2005</td>\n",
              "      <td>2</td>\n",
              "      <td>156.0</td>\n",
              "      <td>6</td>\n",
              "      <td>NaN</td>\n",
              "      <td>421</td>\n",
              "      <td>410.0</td>\n",
              "      <td>434</td>\n",
              "      <td>19.0</td>\n",
              "      <td>4.0</td>\n",
              "      <td>614</td>\n",
              "      <td>147</td>\n",
              "      <td>2537</td>\n",
              "      <td>2610</td>\n",
              "      <td>1345</td>\n",
              "      <td>8703</td>\n",
              "    </tr>\n",
              "    <tr>\n",
              "      <th>170</th>\n",
              "      <td>2005</td>\n",
              "      <td>3</td>\n",
              "      <td>174.0</td>\n",
              "      <td>1</td>\n",
              "      <td>NaN</td>\n",
              "      <td>442</td>\n",
              "      <td>553.0</td>\n",
              "      <td>464</td>\n",
              "      <td>19.0</td>\n",
              "      <td>11.0</td>\n",
              "      <td>811</td>\n",
              "      <td>167</td>\n",
              "      <td>2876</td>\n",
              "      <td>3056</td>\n",
              "      <td>1621</td>\n",
              "      <td>10195</td>\n",
              "    </tr>\n",
              "  </tbody>\n",
              "</table>\n",
              "</div>"
            ],
            "text/plain": [
              "     vano  mes  roubo_apos_saque  ...  roubo_veiculo  outros_roubos  total_roubos\n",
              "168  2005    1             166.0  ...           2747           1304          8747\n",
              "169  2005    2             156.0  ...           2610           1345          8703\n",
              "170  2005    3             174.0  ...           3056           1621         10195\n",
              "\n",
              "[3 rows x 16 columns]"
            ]
          },
          "metadata": {
            "tags": []
          },
          "execution_count": 236
        }
      ]
    },
    {
      "cell_type": "code",
      "metadata": {
        "colab": {
          "base_uri": "https://localhost:8080/",
          "height": 142
        },
        "id": "v7le_isbjrsG",
        "outputId": "6ad2c189-cf0e-4a3d-e407-6107549773e1"
      },
      "source": [
        "#Dataframe para furtos\r\n",
        "df_furtos = df_cr[['vano',\r\n",
        "                   'mes',\r\n",
        "                   'furto_bicicleta',\r\n",
        "                   'furto_celular',\r\n",
        "                   'furto_coletivo',\r\n",
        "                   'furto_transeunte',\r\n",
        "                   'furto_veiculos',\r\n",
        "                   'outros_furtos',\r\n",
        "                   'total_furtos']]\r\n",
        "df_furtos.head(3)"
      ],
      "execution_count": 237,
      "outputs": [
        {
          "output_type": "execute_result",
          "data": {
            "text/html": [
              "<div>\n",
              "<style scoped>\n",
              "    .dataframe tbody tr th:only-of-type {\n",
              "        vertical-align: middle;\n",
              "    }\n",
              "\n",
              "    .dataframe tbody tr th {\n",
              "        vertical-align: top;\n",
              "    }\n",
              "\n",
              "    .dataframe thead th {\n",
              "        text-align: right;\n",
              "    }\n",
              "</style>\n",
              "<table border=\"1\" class=\"dataframe\">\n",
              "  <thead>\n",
              "    <tr style=\"text-align: right;\">\n",
              "      <th></th>\n",
              "      <th>vano</th>\n",
              "      <th>mes</th>\n",
              "      <th>furto_bicicleta</th>\n",
              "      <th>furto_celular</th>\n",
              "      <th>furto_coletivo</th>\n",
              "      <th>furto_transeunte</th>\n",
              "      <th>furto_veiculos</th>\n",
              "      <th>outros_furtos</th>\n",
              "      <th>total_furtos</th>\n",
              "    </tr>\n",
              "  </thead>\n",
              "  <tbody>\n",
              "    <tr>\n",
              "      <th>168</th>\n",
              "      <td>2005</td>\n",
              "      <td>1</td>\n",
              "      <td>NaN</td>\n",
              "      <td>1074.0</td>\n",
              "      <td>282.0</td>\n",
              "      <td>991</td>\n",
              "      <td>1749</td>\n",
              "      <td>6784</td>\n",
              "      <td>10880</td>\n",
              "    </tr>\n",
              "    <tr>\n",
              "      <th>169</th>\n",
              "      <td>2005</td>\n",
              "      <td>2</td>\n",
              "      <td>NaN</td>\n",
              "      <td>989.0</td>\n",
              "      <td>275.0</td>\n",
              "      <td>1107</td>\n",
              "      <td>1521</td>\n",
              "      <td>6341</td>\n",
              "      <td>10233</td>\n",
              "    </tr>\n",
              "    <tr>\n",
              "      <th>170</th>\n",
              "      <td>2005</td>\n",
              "      <td>3</td>\n",
              "      <td>NaN</td>\n",
              "      <td>1291.0</td>\n",
              "      <td>340.0</td>\n",
              "      <td>943</td>\n",
              "      <td>1811</td>\n",
              "      <td>6613</td>\n",
              "      <td>10998</td>\n",
              "    </tr>\n",
              "  </tbody>\n",
              "</table>\n",
              "</div>"
            ],
            "text/plain": [
              "     vano  mes  furto_bicicleta  ...  furto_veiculos  outros_furtos  total_furtos\n",
              "168  2005    1              NaN  ...            1749           6784         10880\n",
              "169  2005    2              NaN  ...            1521           6341         10233\n",
              "170  2005    3              NaN  ...            1811           6613         10998\n",
              "\n",
              "[3 rows x 9 columns]"
            ]
          },
          "metadata": {
            "tags": []
          },
          "execution_count": 237
        }
      ]
    },
    {
      "cell_type": "markdown",
      "metadata": {
        "id": "OrWpKI9mlpiD"
      },
      "source": [
        "Agora que criamos os dataframes, pode-se ver que apenas os roubos e furtos de bicicletas possuem valores NaNs, mas os manteremos assim, para não enviesar nossos dados."
      ]
    },
    {
      "cell_type": "markdown",
      "metadata": {
        "id": "vn25ydAWqbkD"
      },
      "source": [
        "O que faremos agora é observar quanto cada tipo de roubos e furtos representa em relação ao total de roubos e furtos."
      ]
    },
    {
      "cell_type": "code",
      "metadata": {
        "colab": {
          "base_uri": "https://localhost:8080/",
          "height": 388
        },
        "id": "ZmZgPt4prc4v",
        "outputId": "c69350c6-ded0-4359-d7cd-bbc274a9b8fc"
      },
      "source": [
        "# Porcentagem que cada tipo representa em relação ao total de roubos\r\n",
        "roubosaux = df_roubos[['roubo_apos_saque', 'roubo_banco', 'roubo_bicicleta',\r\n",
        "       'roubo_carga', 'roubo_celular', 'roubo_comercio',\r\n",
        "       'roubo_conducao_saque', 'roubo_cx_eletronico', 'roubo_em_coletivo',\r\n",
        "       'roubo_residencia', 'roubo_transeunte', 'roubo_veiculo','outros_roubos']]\r\n",
        "(roubosaux.sum()/df_roubos.total_roubos.sum()).sort_values(ascending=False).plot(kind='bar',\r\n",
        "                                                                                 title='Porcentagem que cada tipo representa em relação ao total de roubos');"
      ],
      "execution_count": 238,
      "outputs": [
        {
          "output_type": "display_data",
          "data": {
            "image/png": "[encoded data removed]",
            "text/plain": [
              "<Figure size 432x288 with 1 Axes>"
            ]
          },
          "metadata": {
            "tags": [],
            "needs_background": "light"
          }
        }
      ]
    },
    {
      "cell_type": "code",
      "metadata": {
        "colab": {
          "base_uri": "https://localhost:8080/",
          "height": 339
        },
        "id": "-iyXh7l8nhQZ",
        "outputId": "fb4a597d-8fd9-4e6d-ad14-5a1828086add"
      },
      "source": [
        "# Porcentagem que cada tipo representa em relação ao total de furtos\r\n",
        "\r\n",
        "furtosaux = df_furtos[['furto_bicicleta', 'furto_celular', 'furto_coletivo',\r\n",
        "       'furto_transeunte', 'furto_veiculos', 'outros_furtos']]\r\n",
        "\r\n",
        "(furtosaux.sum()/df_furtos.total_furtos.sum()).sort_values(ascending=False).plot(kind='bar');"
      ],
      "execution_count": 239,
      "outputs": [
        {
          "output_type": "display_data",
          "data": {
            "image/png": "[encoded data removed]",
            "text/plain": [
              "<Figure size 432x288 with 1 Axes>"
            ]
          },
          "metadata": {
            "tags": [],
            "needs_background": "light"
          }
        }
      ]
    },
    {
      "cell_type": "markdown",
      "metadata": {
        "id": "L8bs8z_YtAEm"
      },
      "source": [
        "O que eu queria tentar observar aqui é que, mesmo diminuindo nossa série histórica talvez esses dados não sejam tão apurados quanto gostaríamos, ainda mais que vivemos num país sem tanta cultura de dados. Então talvez os dados mais recentes sejam mais confiáveis que os mais antigos, mas ainda assim seria difícil de fazer estimações mais específicas de roubos e furtos, pela falta de mais especificidade das variáveis `outros_roubos` e `outros_furtos`, que como você ver, estão entre os valores mais presentes no Dataset."
      ]
    },
    {
      "cell_type": "markdown",
      "metadata": {
        "id": "xu0zTGsbtzaK"
      },
      "source": [
        "Para finalizar, vamos criar um Dataframe específico com os totais de roubos e furtos."
      ]
    },
    {
      "cell_type": "code",
      "metadata": {
        "colab": {
          "base_uri": "https://localhost:8080/",
          "height": 142
        },
        "id": "RE4NDQlft8C1",
        "outputId": "dd01435b-c64b-4ad3-a551-649d9fc60b33"
      },
      "source": [
        "# Criando o dataframe\r\n",
        "df_rf = df_cr[['vano','mes','total_roubos','total_furtos']]\r\n",
        "df_rf.head(3)"
      ],
      "execution_count": 240,
      "outputs": [
        {
          "output_type": "execute_result",
          "data": {
            "text/html": [
              "<div>\n",
              "<style scoped>\n",
              "    .dataframe tbody tr th:only-of-type {\n",
              "        vertical-align: middle;\n",
              "    }\n",
              "\n",
              "    .dataframe tbody tr th {\n",
              "        vertical-align: top;\n",
              "    }\n",
              "\n",
              "    .dataframe thead th {\n",
              "        text-align: right;\n",
              "    }\n",
              "</style>\n",
              "<table border=\"1\" class=\"dataframe\">\n",
              "  <thead>\n",
              "    <tr style=\"text-align: right;\">\n",
              "      <th></th>\n",
              "      <th>vano</th>\n",
              "      <th>mes</th>\n",
              "      <th>total_roubos</th>\n",
              "      <th>total_furtos</th>\n",
              "    </tr>\n",
              "  </thead>\n",
              "  <tbody>\n",
              "    <tr>\n",
              "      <th>168</th>\n",
              "      <td>2005</td>\n",
              "      <td>1</td>\n",
              "      <td>8747</td>\n",
              "      <td>10880</td>\n",
              "    </tr>\n",
              "    <tr>\n",
              "      <th>169</th>\n",
              "      <td>2005</td>\n",
              "      <td>2</td>\n",
              "      <td>8703</td>\n",
              "      <td>10233</td>\n",
              "    </tr>\n",
              "    <tr>\n",
              "      <th>170</th>\n",
              "      <td>2005</td>\n",
              "      <td>3</td>\n",
              "      <td>10195</td>\n",
              "      <td>10998</td>\n",
              "    </tr>\n",
              "  </tbody>\n",
              "</table>\n",
              "</div>"
            ],
            "text/plain": [
              "     vano  mes  total_roubos  total_furtos\n",
              "168  2005    1          8747         10880\n",
              "169  2005    2          8703         10233\n",
              "170  2005    3         10195         10998"
            ]
          },
          "metadata": {
            "tags": []
          },
          "execution_count": 240
        }
      ]
    },
    {
      "cell_type": "code",
      "metadata": {
        "colab": {
          "base_uri": "https://localhost:8080/",
          "height": 349
        },
        "id": "sHOr3RtDuUrc",
        "outputId": "d925d3c2-f264-4c7b-df24-599fa3a75be6"
      },
      "source": [
        "df_rf_pm = df_rf.groupby(['mes'])['total_roubos','total_furtos'].mean()\r\n",
        "df_rf_pm.plot(title='Média de total de roubos e furtos por mês - 1991 à 2019',\r\n",
        "              xlabel = 'Mês',\r\n",
        "              ylabel='Média');"
      ],
      "execution_count": 241,
      "outputs": [
        {
          "output_type": "stream",
          "text": [
            "/usr/local/lib/python3.6/dist-packages/ipykernel_launcher.py:1: FutureWarning: Indexing with multiple keys (implicitly converted to a tuple of keys) will be deprecated, use a list instead.\n",
            "  \"\"\"Entry point for launching an IPython kernel.\n"
          ],
          "name": "stderr"
        },
        {
          "output_type": "display_data",
          "data": {
            "image/png": "[encoded data removed]",
            "text/plain": [
              "<Figure size 432x288 with 1 Axes>"
            ]
          },
          "metadata": {
            "tags": [],
            "needs_background": "light"
          }
        }
      ]
    },
    {
      "cell_type": "markdown",
      "metadata": {
        "id": "7peJA01Oyl3T"
      },
      "source": [
        "Esse gráfico é bem interessante, pois mostrando o comportamento da média do total de roubos e furtos por mês, numa série histórica de 15 anos, conseguimos perceber que os furtos têm maior número e uma variação que sobe e desce a cada mês, o que é um comportamento bem curioso.\r\n",
        "Já os roubos possuem um comportamento bem definido de alta em um intervalo de 3 meses.\r\n",
        "\r\n",
        "\r\n",
        "--\r\n",
        "\r\n",
        "**Por que esse tipo de análise é importante?**\r\n",
        "\r\n",
        "Uma vez que descobrimos as informações dos tipos de roubos e furtos com maior representatividade para o total e a informação dos meses com maior média de roubos, conseguimos que os tomadores de decisão foquem na prevenção deste tipo de crime, aumentando o contigente de agentes de segurança pública nos meses mostrados como os de maiores ocorrências: Março, Abril e Maio. \r\n"
      ]
    },
    {
      "cell_type": "markdown",
      "metadata": {
        "id": "LCsiXvM3BcsO"
      },
      "source": [
        "## Conclusão\n",
        "\n",
        "Utilizando estas informações oficiais para o Rio de Janeiro, já conseguimos extrair algumas hipóteses bem interessantes, que com uma análise mais profunda, com certeza podem ajudar os tomadores de decisão da segurança pública a melhorar seu trabalho, e assim a vida da população.\n",
        "\n",
        "Ainda existem outras colunas neste dataset que podem ser exploradas e incrementadas com outros repositórios, se você gostou desse trabalho que eu fiz, me deixe saber, que com certeza me motivará a continuar essa análise!\n",
        "\n",
        "Me segue no [LinkedIn, Medium e Github!](https://linktr.ee/otaviodefilpo)\n",
        "\n",
        "Eu posto artigos e projetos novos quase toda semana, já têm vários disponíveis nesses lugares do link, espero que você goste!\n",
        "\n",
        "Abraços e até o próximo projeto!"
      ]
    }
  ]
}